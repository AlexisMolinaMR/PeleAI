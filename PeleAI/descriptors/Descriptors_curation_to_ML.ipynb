{
 "cells": [
  {
   "cell_type": "code",
   "execution_count": 1,
   "metadata": {},
   "outputs": [],
   "source": [
    "import pandas as pd\n",
    "from openpyxl import load_workbook\n",
    "import numpy as np\n",
    "import matplotlib.pyplot as plt\n",
    "import seaborn as sns\n",
    "import time\n",
    "\n",
    "import warnings\n",
    "warnings.filterwarnings('ignore')\n",
    "#pd.reset_option('display.max_columns')\n",
    "\n",
    "from sklearn.svm import SVC, LinearSVC\n",
    "from sklearn.model_selection import StratifiedKFold, train_test_split, GridSearchCV, RandomizedSearchCV\n",
    "from sklearn.feature_selection import RFECV, RFE, SelectFromModel, SelectKBest, chi2\n",
    "from sklearn import preprocessing\n",
    "from sklearn.preprocessing import StandardScaler, MinMaxScaler, MaxAbsScaler, RobustScaler, Normalizer, QuantileTransformer, PowerTransformer\n",
    "from sklearn.neural_network import MLPClassifier\n",
    "from sklearn.metrics import classification_report,confusion_matrix\n",
    "from sklearn.ensemble import GradientBoostingClassifier, ExtraTreesRegressor, RandomForestClassifier, BaggingClassifier, ExtraTreesClassifier, RandomForestRegressor\n",
    "from sklearn import feature_selection\n",
    "from sklearn.pipeline import Pipeline\n",
    "from sklearn.linear_model import LogisticRegression\n",
    "from sklearn.tree import DecisionTreeClassifier\n",
    "from sklearn import metrics\n",
    "\n",
    "from lightgbm import LGBMClassifier\n",
    "\n",
    "import shap"
   ]
  },
  {
   "cell_type": "markdown",
   "metadata": {},
   "source": [
    "### Data ensembling"
   ]
  },
  {
   "cell_type": "code",
   "execution_count": 2,
   "metadata": {},
   "outputs": [],
   "source": [
    "descriptor_df = pd.read_excel('dummy.xlsx', None)\n",
    "all_ligand_descriptors = []\n",
    "for key in descriptor_df.keys():\n",
    "    all_ligand_descriptors.append(descriptor_df[key])\n",
    "descriptors_concatenated = pd.concat(all_ligand_descriptors,axis=0,ignore_index=True)"
   ]
  },
  {
   "cell_type": "code",
   "execution_count": 3,
   "metadata": {},
   "outputs": [],
   "source": [
    "dummy_df = descriptors_concatenated\n",
    "dummy_df.drop('Unnamed: 0', axis=1, inplace=True)"
   ]
  },
  {
   "cell_type": "code",
   "execution_count": 4,
   "metadata": {},
   "outputs": [
    {
     "data": {
      "text/plain": [
       "RangeIndex(start=0, stop=128, step=1)"
      ]
     },
     "execution_count": 4,
     "metadata": {},
     "output_type": "execute_result"
    }
   ],
   "source": [
    "dummy_df.index"
   ]
  },
  {
   "cell_type": "code",
   "execution_count": 5,
   "metadata": {},
   "outputs": [],
   "source": [
    "dummy_df = dummy_df.loc[0:63,:]"
   ]
  },
  {
   "cell_type": "code",
   "execution_count": 6,
   "metadata": {},
   "outputs": [
    {
     "data": {
      "text/html": [
       "<div>\n",
       "<style scoped>\n",
       "    .dataframe tbody tr th:only-of-type {\n",
       "        vertical-align: middle;\n",
       "    }\n",
       "\n",
       "    .dataframe tbody tr th {\n",
       "        vertical-align: top;\n",
       "    }\n",
       "\n",
       "    .dataframe thead th {\n",
       "        text-align: right;\n",
       "    }\n",
       "</style>\n",
       "<table border=\"1\" class=\"dataframe\">\n",
       "  <thead>\n",
       "    <tr style=\"text-align: right;\">\n",
       "      <th></th>\n",
       "      <th>Ligand</th>\n",
       "    </tr>\n",
       "  </thead>\n",
       "  <tbody>\n",
       "    <tr>\n",
       "      <th>0</th>\n",
       "      <td>39_SD-027</td>\n",
       "    </tr>\n",
       "    <tr>\n",
       "      <th>1</th>\n",
       "      <td>24_SD-012</td>\n",
       "    </tr>\n",
       "    <tr>\n",
       "      <th>2</th>\n",
       "      <td>102_wo17590_77</td>\n",
       "    </tr>\n",
       "    <tr>\n",
       "      <th>3</th>\n",
       "      <td>1_BMS986165_PKD_TYK2_prw_nowater_nimbus01</td>\n",
       "    </tr>\n",
       "    <tr>\n",
       "      <th>4</th>\n",
       "      <td>60_wo14660_81</td>\n",
       "    </tr>\n",
       "    <tr>\n",
       "      <th>...</th>\n",
       "      <td>...</td>\n",
       "    </tr>\n",
       "    <tr>\n",
       "      <th>59</th>\n",
       "      <td>52_wo14660_365</td>\n",
       "    </tr>\n",
       "    <tr>\n",
       "      <th>60</th>\n",
       "      <td>76_wo14670_2</td>\n",
       "    </tr>\n",
       "    <tr>\n",
       "      <th>61</th>\n",
       "      <td>90_wo15310_29</td>\n",
       "    </tr>\n",
       "    <tr>\n",
       "      <th>62</th>\n",
       "      <td>27_SD-015</td>\n",
       "    </tr>\n",
       "    <tr>\n",
       "      <th>63</th>\n",
       "      <td>20_SD-008</td>\n",
       "    </tr>\n",
       "  </tbody>\n",
       "</table>\n",
       "<p>64 rows × 1 columns</p>\n",
       "</div>"
      ],
      "text/plain": [
       "                                       Ligand\n",
       "0                                   39_SD-027\n",
       "1                                   24_SD-012\n",
       "2                              102_wo17590_77\n",
       "3   1_BMS986165_PKD_TYK2_prw_nowater_nimbus01\n",
       "4                               60_wo14660_81\n",
       "..                                        ...\n",
       "59                             52_wo14660_365\n",
       "60                               76_wo14670_2\n",
       "61                              90_wo15310_29\n",
       "62                                  27_SD-015\n",
       "63                                  20_SD-008\n",
       "\n",
       "[64 rows x 1 columns]"
      ]
     },
     "execution_count": 6,
     "metadata": {},
     "output_type": "execute_result"
    }
   ],
   "source": [
    "lig = pd.DataFrame(dummy_df, columns=['Ligand'])\n",
    "lig.to_excel(\"/home/vant/data/PeleAI_data/ligands_list.xlsx\")\n",
    "lig"
   ]
  },
  {
   "cell_type": "markdown",
   "metadata": {},
   "source": [
    "#### Non-applying descriptors search\n",
    "\n",
    "Search for those descriptors that could not be computed by _Modrded_ and discard them."
   ]
  },
  {
   "cell_type": "code",
   "execution_count": 7,
   "metadata": {},
   "outputs": [],
   "source": [
    "non_applying_descriptors = []\n",
    "num_descriptors = len(dummy_df.columns)\n",
    "\n",
    "for i in range(1, num_descriptors):\n",
    "    if (str(dummy_df.dtypes[i]) != 'float64') and (str(dummy_df.dtypes[i]) != 'int64') and (str(dummy_df.dtypes[i]) != 'bool'):\n",
    "        non_applying_descriptors.append(dummy_df.columns[i])\n",
    "        "
   ]
  },
  {
   "cell_type": "code",
   "execution_count": 8,
   "metadata": {},
   "outputs": [],
   "source": [
    "for descriptor in non_applying_descriptors:\n",
    "    dummy_df.drop(columns=[descriptor], inplace=True)"
   ]
  },
  {
   "cell_type": "markdown",
   "metadata": {},
   "source": [
    "#### _BMS_ and _wo_ ligands dropping\n",
    "\n",
    "We decided to discard this two groups of ligads as they come from two alternative sources. \n",
    "We keep on working with _SD_ and _LAS_."
   ]
  },
  {
   "cell_type": "code",
   "execution_count": 9,
   "metadata": {},
   "outputs": [],
   "source": [
    "for index, row in dummy_df.iterrows():\n",
    "    if 'BMS' in row['Ligand']:\n",
    "        dummy_df.drop(index, inplace=True)\n",
    "\n",
    "for index, row in dummy_df.iterrows():\n",
    "    if 'wo' in row['Ligand']:\n",
    "        dummy_df.drop(index, inplace=True)\n",
    "        \n",
    "for index, row in dummy_df.iterrows():\n",
    "    if '30_' in row['Ligand']:\n",
    "        dummy_df.drop(index, inplace=True)"
   ]
  },
  {
   "cell_type": "code",
   "execution_count": 10,
   "metadata": {},
   "outputs": [
    {
     "data": {
      "text/plain": [
       "0        39_SD-027\n",
       "1        24_SD-012\n",
       "2        29_SD-017\n",
       "3        33_SD-021\n",
       "4        17_SD-002\n",
       "5        36_SD-024\n",
       "6        18_SD-003\n",
       "7        25_SD-013\n",
       "8        23_SD-011\n",
       "9     12_LAS203756\n",
       "10       34_SD-022\n",
       "11       28_SD-016\n",
       "12       26_SD-014\n",
       "13       37_SD-025\n",
       "14    13_LAS203888\n",
       "15       21_SD-009\n",
       "16       19_SD-006\n",
       "17       22_SD-010\n",
       "18       35_SD-023\n",
       "19       38_SD-026\n",
       "20       32_SD-020\n",
       "21    15_LAS203932\n",
       "22       31_SD-019\n",
       "23    16_LAS203965\n",
       "24    14_LAS203900\n",
       "25       27_SD-015\n",
       "26       20_SD-008\n",
       "Name: Ligand, dtype: object"
      ]
     },
     "execution_count": 10,
     "metadata": {},
     "output_type": "execute_result"
    }
   ],
   "source": [
    "dummy_df.reset_index(drop=True, inplace=True)\n",
    "dummy_df['Ligand']"
   ]
  },
  {
   "cell_type": "code",
   "execution_count": 11,
   "metadata": {},
   "outputs": [
    {
     "data": {
      "text/plain": [
       "RangeIndex(start=0, stop=27, step=1)"
      ]
     },
     "execution_count": 11,
     "metadata": {},
     "output_type": "execute_result"
    }
   ],
   "source": [
    "dummy_df.sort_values(by=['Ligand'], inplace=True)\n",
    "dummy_df.reset_index(drop=True, inplace=True)\n",
    "dummy_df.index"
   ]
  },
  {
   "cell_type": "markdown",
   "metadata": {},
   "source": [
    "#### pIC50 values loading"
   ]
  },
  {
   "cell_type": "code",
   "execution_count": 12,
   "metadata": {},
   "outputs": [],
   "source": [
    "pic50_raw = pd.read_excel('/home/vant/data/PeleAI_data/y_data.xlsx')"
   ]
  },
  {
   "cell_type": "code",
   "execution_count": 13,
   "metadata": {},
   "outputs": [
    {
     "data": {
      "text/plain": [
       "0     12_LAS203756\n",
       "1     13_LAS203888\n",
       "2     14_LAS203900\n",
       "3     15_LAS203932\n",
       "4     16_LAS203965\n",
       "5        17_SD-002\n",
       "6        18_SD-003\n",
       "7        19_SD-006\n",
       "8        20_SD-008\n",
       "9        21_SD-009\n",
       "10       22_SD-010\n",
       "11       23_SD-011\n",
       "12       24_SD-012\n",
       "13       25_SD-013\n",
       "14       26_SD-014\n",
       "15       27_SD-015\n",
       "16       28_SD-016\n",
       "17       29_SD-017\n",
       "18       31_SD-019\n",
       "19       32_SD-020\n",
       "20       33_SD-021\n",
       "21       34_SD-022\n",
       "22       35_SD-023\n",
       "23       36_SD-024\n",
       "24       37_SD-025\n",
       "25       38_SD-026\n",
       "26       39_SD-027\n",
       "Name: Ligand, dtype: object"
      ]
     },
     "execution_count": 13,
     "metadata": {},
     "output_type": "execute_result"
    }
   ],
   "source": [
    "pic50_raw['Ligand']"
   ]
  },
  {
   "cell_type": "markdown",
   "metadata": {},
   "source": [
    "### Descriptor curation"
   ]
  },
  {
   "cell_type": "markdown",
   "metadata": {},
   "source": [
    "#### Correlation matrix and high correlated descriptors dropping\n",
    "\n",
    "Computing of the correlation matrix, plotted below, of the ~1500 descriptors computed. Those descriptors that show a correlation coefficient above 0.8 will be discarded."
   ]
  },
  {
   "cell_type": "code",
   "execution_count": 14,
   "metadata": {},
   "outputs": [],
   "source": [
    "correlated_features = set()\n",
    "correlation_matrix = dummy_df.drop('Ligand', axis=1).corr()"
   ]
  },
  {
   "cell_type": "code",
   "execution_count": 15,
   "metadata": {
    "scrolled": true
   },
   "outputs": [
    {
     "name": "stdout",
     "output_type": "stream",
     "text": [
      "{'ETA_dAlpha_B', 'ATS5i', 'BCUTd-1h', 'ATSC1are', 'BCUTse-1h', 'AATSC7dv', 'VE1_D', 'ETA_beta', 'BCUTare-1l', 'AATSC3are', 'WPSA1', 'CIC2', 'ATSC3pe', 'VR3_Dzpe', 'ATSC8se', 'AATSC1s', 'MATS8c', 'AATS3p', 'ATS1dv', 'n6HRing', 'TopoPSA', 'ATS0m', 'ETA_beta_ns', 'AATSC3dv', 'AATSC5m', 'GRAV', 'ATS4v', 'ATSC2are', 'FPSA5', 'Xpc-4d', 'piPC8', 'Xc-4d', 'MATS6m', 'ATSC8c', 'EState_VSA1', 'AATS2are', 'AATS8pe', 'Xch-6dv', 'VR3_DzZ', 'Xch-3d', 'GATS8se', 'AATSC1se', 'SpMax_D', 'SaaNH', 'ATS1pe', 'SZ', 'MATS3p', 'AATS6Z', 'AATSC3se', 'IC2', 'MOMI-Z', 'AATSC2i', 'MATS6dv', 'nBondsD', 'EState_VSA2', 'BIC1', 'AATSC8se', 'MATS7pe', 'MATS2i', 'AATS7s', 'BCUTi-1l', 'ATSC1Z', 'SM1_Dzv', 'AATS2se', 'ATSC5p', 'SIC5', 'n4ARing', 'VE2_D', 'SpDiam_Dzse', 'GATS3are', 'AETA_alpha', 'mZagreb1', 'MATS7are', 'VMcGowan', 'AATSC3v', 'GATS4se', 'ATSC0se', 'MID_X', 'PPSA3', 'ATSC6v', 'AATSC0d', 'ATS2v', 'ETA_eta_L', 'MATS4v', 'GATS6v', 'SlogP_VSA7', 'GATS4pe', 'ATS0p', 'AATSC5s', 'GATS8Z', 'MATS5m', 'AATSC4i', 'BertzCT', 'ATS7v', 'DPSA2', 'SM1_Dzare', 'ATS4s', 'ATS6v', 'MATS8dv', 'LogEE_Dt', 'GATS6dv', 'ATSC8m', 'AETA_eta_RL', 'AATSC3pe', 'n5HRing', 'AATSC0s', 'MINaaCH', 'nAromBond', 'AXp-5dv', 'VE3_Dt', 'ATS0s', 'AATS4pe', 'MATS7dv', 'TMPC10', 'ATS6pe', 'ATSC1c', 'Si', 'MATS1v', 'NddssS', 'GATS2se', 'Mor01', 'ATSC6m', 'SpMax_Dzp', 'NaaS', 'RASA', 'AATS5d', 'MATS4pe', 'TIC5', 'ATSC6p', 'AATS4d', 'ATS0Z', 'Xpc-4dv', 'AXp-3dv', 'SpMAD_Dt', 'ETA_eta_F', 'AATS3v', 'AATS8dv', 'MATS2v', 'PNSA2', 'MATS6i', 'AATSC0v', 'MPC7', 'GGI2', 'RPSA', 'Xp-3dv', 'ATS1v', 'VR2_Dzm', 'MATS2se', 'SpMax_Dzpe', 'AETA_dBeta', 'MATS5c', 'GATS2Z', 'AATS1p', 'MATS3i', 'AATSC2p', 'GATS3pe', 'Lipinski', 'MPC4', 'piPC6', 'AATSC5Z', 'Vabc', 'GRAVp', 'AATSC0i', 'WPath', 'AATS7se', 'nX', 'AATS5Z', 'MDEC-33', 'AATSC4d', 'ATS0d', 'IC5', 'nFARing', 'AATS2pe', 'SRW09', 'ATS1se', 'SRW02', 'ETA_shape_p', 'ATS8se', 'ATS3Z', 'AATS1pe', 'GATS8i', 'AATS4s', 'EState_VSA10', 'WPSA5', 'ATS7i', 'AATSC6m', 'ATSC4are', 'MATS7i', 'Xp-2d', 'GATS3v', 'nFaHRing', 'MATS8s', 'ATS3p', 'AATSC8m', 'MID_h', 'VE3_Dzpe', 'IC4', 'n4AHRing', 'ATSC1i', 'MW', 'ZMIC5', 'ATS5m', 'GATS8v', 'SpMAD_Dzare', 'Sm', 'ETA_shape_y', 'BCUTpe-1h', 'VE1_Dzi', 'MATS4i', 'SpAbs_A', 'SpAbs_Dzi', 'AATSC6pe', 'ATS0pe', 'MATS1se', 'GATS3dv', 'StN', 'WPol', 'NaaCH', 'AATSC3p', 'SssO', 'GATS6pe', 'SRW08', 'GATS1Z', 'Mv', 'ATSC4c', 'MWC09', 'ATSC6pe', 'AATSC6i', 'BIC5', 'AATSC5c', 'MATS5i', 'VE1_Dzp', 'ATSC0Z', 'VR1_DzZ', 'Mor01m', 'ATS3dv', 'AATSC5pe', 'BCUTm-1l', 'Sp', 'VR2_D', 'Mpe', 'SpDiam_Dt', 'MOMI-X', 'MATS8pe', 'SpDiam_DzZ', 'nBondsKS', 'SM1_Dzp', 'GATS2m', 'ATSC2v', 'HybRatio', 'AATSC3d', 'n4HRing', 'ABCGG', 'ATSC7are', 'VE3_Dzp', 'VR2_Dt', 'MWC07', 'ATS1are', 'AATS8v', 'VR2_Dzse', 'MATS7p', 'DPSA5', 'MATS1i', 'LogEE_Dzse', 'FCSP3', 'ETA_dPsi_A', 'MPC10', 'MIC5', 'AXp-4d', 'Xp-2dv', 'nFHRing', 'AATSC2Z', 'VE1_Dt', 'SpDiam_A', 'ATSC2p', 'n9FARing', 'MATS6c', 'GATS7are', 'Mor01se', 'MATS3v', 'ATS2d', 'SssCH2', 'JGT10', 'BCUTs-1h', 'SRW03', 'Mare', 'AATSC7are', 'AATSC4Z', 'SM1_DzZ', 'ATSC0are', 'GATS5Z', 'SMR_VSA5', 'AMID_X', 'ATSC1se', 'AATSC1Z', 'nFaRing', 'LogEE_Dzm', 'SRW06', 'ATS5p', 'SpAD_Dzm', 'ATS3se', 'MATS3c', 'ATS3i', 'AXp-1dv', 'AATSC8pe', 'MATS4m', 'PetitjeanIndex', 'Sare', 'AATSC4pe', 'AATSC0are', 'AATSC8Z', 'GATS3p', 'SpDiam_Dzp', 'MATS5dv', 'ATS4d', 'FilterItLogS', 'AXp-4dv', 'AATSC1i', 'AATSC1p', 'BCUTse-1l', 'MATS8p', 'VR2_A', 'AATSC7Z', 'ATS0i', 'GATS7Z', 'AATSC3Z', 'SpDiam_Dzm', 'TPSA', 'GATS6p', 'Xch-4dv', 'ETA_alpha', 'CIC4', 'SpAD_Dt', 'piPC1', 'MPC9', 'JGI1', 'JGI3', 'AMID_O', 'AATS8d', 'WNSA2', 'MDEC-23', 'TpiPC10', 'MID_N', 'SaasN', 'MATS7m', 'AATSC0p', 'Xch-7dv', 'n12FRing', 'Sv', 'SaaaC', 'AATSC6Z', 'MATS8v', 'ATS7dv', 'AATSC0Z', 'Radius', 'MATS6pe', 'GATS1p', 'MDEC-22', 'NsCH3', 'GATS3se', 'VR3_Dzse', 'AATS1are', 'GATS7se', 'ZMIC1', 'AATS8p', 'ATS2se', 'MATS5Z', 'ATS8v', 'GATS1dv', 'ATSC0i', 'AATSC4c', 'Xp-5d', 'ATS3are', 'NtN', 'piPC3', 'SlogP_VSA6', 'GGI4', 'Xch-3dv', 'AXp-2dv', 'AATS8Z', 'nBondsS', 'Mse', 'AXp-2d', 'ATS6are', 'Mm', 'AATS4p', 'GATS1v', 'SIC0', 'VE3_Dzi', 'GGI3', 'Xp-1d', 'VR1_Dzi', 'AATSC2dv', 'SM1_Dzse', 'MATS2are', 'ATS6d', 'MATS7se', 'ATS5Z', 'MATS7s', 'SpAbs_Dzare', 'SpAbs_Dzse', 'MPC5', 'GGI6', 'MATS4se', 'GATS4are', 'VR2_Dzpe', 'ATSC6Z', 'VR1_Dzp', 'n12FHRing', 'ATS3s', 'Xch-5d', 'AATS1m', 'FPSA1', 'AATS3se', 'ATSC5m', 'AATSC3s', 'SpMax_Dzv', 'SdsN', 'GATS2pe', 'n9FaRing', 'nFAHRing', 'ATS2are', 'AATS1s', 'SpAD_Dzare', 'ATS1s', 'AATSC1dv', 'FPSA3', 'MIC0', 'piPC7', 'AATS5p', 'AATS0s', 'n6Ring', 'BIC0', 'n4Ring', 'ATS2p', 'ATS4i', 'AATSC4p', 'AATSC5dv', 'VR3_Dzi', 'SpAbs_D', 'AATS7p', 'Sse', 'AATS1i', 'ETA_epsilon_3', 'ATSC0c', 'fragCpx', 'ATS4pe', 'ATSC0s', 'GATS4p', 'Xc-5d', 'AXp-5d', 'SsF', 'TIC3', 'MATS4Z', 'AATSC3i', 'AATSC4s', 'AATSC6d', 'IC0', 'SMR', 'MWC01', 'AATSC3c', 'MATS1are', 'NdsN', 'GATS6se', 'AATS0d', 'nHeavyAtom', 'ATSC4m', 'MATS1c', 'ATS7Z', 'ATS1Z', 'ATSC5are', 'MATS3Z', 'BCUTs-1l', 'SpMax_Dzm', 'GATS4Z', 'C1SP1', 'ATSC2pe', 'AATSC5are', 'SpAbs_Dzpe', 'VR1_Dzare', 'MATS8se', 'ETA_eta_B', 'ATSC2m', 'Xp-7dv', 'GATS8pe', 'AETA_eta_F', 'nG12FHRing', 'SddssS', 'CIC1', 'AATS3s', 'GGI7', 'ATS4are', 'ATSC0d', 'n3Ring', 'TMWC10', 'AATSC7pe', 'SlogP_VSA11', 'VE3_DzZ', 'VSA_EState5', 'ATSC8pe', 'ETA_dEpsilon_A', 'SdsCH', 'WPSA2', 'MATS6p', 'AXp-3d', 'PNSA5', 'GATS7c', 'SlogP_VSA2', 'Xp-6d', 'AMW', 'AATS6are', 'nFRing', 'VR1_Dzpe', 'SpAD_Dzpe', 'SpAbs_Dzv', 'AATSC1pe', 'AATS8se', 'Xc-3dv', 'BCUTpe-1l', 'VE3_A', 'AATSC3m', 'GATS3m', 'VE2_A', 'SpDiam_Dzpe', 'ETA_eta_FL', 'SMR_VSA1', 'MPC8', 'AATS1v', 'nRing', 'AATSC1d', 'MATS5are', 'VE3_D', 'AATSC6are', 'AATS6se', 'ATS0v', 'ZMIC4', 'GATS2p', 'GATS6m', 'MATS1d', 'ATSC7m', 'SIC1', 'Xp-7d', 'CIC0', 'nBonds', 'ATS4m', 'MATS2pe', 'GATS8p', 'VE2_Dzv', 'ATS4dv', 'AATSC8s', 'FNSA4', 'AATSC8are', 'AATS5se', 'Xp-3d', 'LogEE_Dzare', 'n9FHRing', 'SpDiam_Dzi', 'AATS5pe', 'AATS3Z', 'BCUTm-1h', 'VR2_Dzi', 'AATSC4v', 'AATS1se', 'AATS6m', 'LogEE_Dzi', 'ATS4Z', 'AXp-7d', 'PPSA2', 'AATS1d', 'AATSC5i', 'AATSC2m', 'AATS6p', 'GATS7v', 'AMID_C', 'TIC1', 'AATS2d', 'MATS5s', 'Xpc-6d', 'nG12FaRing', 'IC3', 'n9FAHRing', 'VE2_Dzpe', 'SaaCH', 'LogEE_Dzv', 'AXp-0d', 'GATS5d', 'VE3_Dzse', 'SpAbs_Dt', 'AATS5m', 'SsssN', 'GeomPetitjeanIndex', 'TIC4', 'AETA_eta_B', 'MWC06', 'ATS5dv', 'VE2_Dzp', 'AATSC8dv', 'MAXaaCH', 'ATSC6se', 'NssssC', 'AATSC8p', 'GATS3i', 'VE2_DzZ', 'AATS3dv', 'ATS1p', 'AATS4se', 'MPC6', 'GATS1are', 'MATS8d', 'AATSC2c', 'ATS6dv', 'GATS5c', 'NsCl', 'SaaS', 'AATS8are', 'AATSC7p', 'AETA_beta_ns', 'ATS6se', 'ATS2m', 'MATS1p', 'AETA_eta_R', 'SaaN', 'NdssC', 'ETA_epsilon_2', 'BCUTare-1h', 'AATSC0se', 'n6aHRing', 'ETA_dEpsilon_C', 'AATSC6se', 'ATSC7pe', 'GATS7pe', 'SpAD_Dzi', 'MATS2c', 'ATS7p', 'SIC2', 'nG12FRing', 'AATSC8d', 'SM1_Dzpe', 'AATSC5v', 'SpMax_Dt', 'ETA_dBeta', 'AATSC7i', 'AATSC5se', 'nHetero', 'GATS1i', 'SpMAD_Dzm', 'SaasC', 'AATS5v', 'ATSC3v', 'ATS6Z', 'n3ARing', 'AATSC8c', 'nBondsM', 'AATSC4m', 'Spe', 'SRW04', 'AATSC7m', 'MATS8m', 'MATS6are', 'SpMax_Dzare', 'VR2_Dzp', 'ATS0se', 'MATS5d', 'GGI5', 'n9FRing', 'AATS4m', 'ATSC8p', 'SpMax_DzZ', 'AATSC0dv', 'FPSA2', 'VR1_Dt', 'MID_O', 'ATSC0p', 'MATS3dv', 'AATSC7c', 'nHBAcc', 'MATS6se', 'Mi', 'AETA_eta_FL', 'GATS4dv', 'AATS6v', 'SpMAD_Dzp', 'Xp-0d', 'MWC03', 'GGI1', 'ATSC6s', 'n6AHRing', 'MATS5p', 'MATS6v', 'nBondsKD', 'LogEE_D', 'n12FaRing', 'GATS5p', 'VE2_Dzi', 'AATS2s', 'WNSA3', 'Xpc-6dv', 'GATS5se', 'MATS1pe', 'GATS2are', 'AATS6pe', 'SRW07', 'AATSC6s', 'AATS7m', 'AATS5are', 'n9FaHRing', 'MATS4dv', 'C2SP2', 'ATSC0dv', 'AATSC2se', 'ATS5v', 'MAXaasC', 'ATS5se', 'AATSC0pe', 'DetourIndex', 'ATSC3p', 'MWC02', 'GATS6Z', 'BCUTi-1h', 'SpMax_Dzse', 'AETA_beta', 'VR2_Dzv', 'GATS1s', 'Xch-7d', 'ATS8s', 'AATS2dv', 'ETA_beta_s', 'nC', 'ATS7are', 'VR3_A', 'GATS3d', 'AATSC5d', 'MATS3se', 'VR1_Dzse', 'AATSC8v', 'SaaO', 'MID', 'AATSC6c', 'WNSA5', 'AATSC7v', 'AATS4dv', 'AATS3are', 'ATSC5se', 'ATSC1p', 'Xc-5dv', 'n5aHRing', 'LogEE_A', 'VR3_Dzare', 'AATS3d', 'ATS7d', 'AATS0Z', 'AATSC7s', 'LogEE_Dzp', 'AATSC6dv', 'ATS6i', 'GATS4d', 'MATS4p', 'ATS2i', 'AATS3m', 'AXp-7dv', 'SMR_VSA3', 'GATS4m', 'ETA_epsilon_5', 'SIC4', 'ATS2Z', 'ATS5s', 'SpAD_Dzp', 'ATSC8are', 'ETA_eta_RL', 'VE2_Dzm', 'SMR_VSA7', 'MATS5se', 'GATS8dv', 'AATS8m', 'SpMAD_Dzpe', 'AATSC2v', 'SpAbs_DzZ', 'GGI10', 'GATS7dv', 'AATS7are', 'nHRing', 'VSA_EState8', 'ATS3pe', 'MIC2', 'AATSC4dv', 'VE3_Dzv', 'piPC10', 'SlogP_VSA1', 'ECIndex', 'GATS5v', 'BIC4', 'BCUTv-1l', 'AATSC2d', 'LabuteASA', 'GATS8m', 'PPSA5', 'TopoPSA(NO)', 'AATS7pe', 'Xp-6dv', 'GATS5m', 'BCUTp-1l', 'MATS2s', 'SsCH3', 'AATS2v', 'ATS5are', 'ATS5pe', 'ATS2dv', 'ATS6p', 'AATS8s', 'AATS7Z', 'MATS8are', 'MATS1s', 'NaaaC', 'ETA_psi_1', 'MIC1', 'naHRing', 'Zagreb1', 'GATS2dv', 'AATS7v', 'apol', 'SpAbs_Dzm', 'ATS8i', 'NaaO', 'Xp-5dv', 'EState_VSA9', 'piPC5', 'MATS4s', 'piPC2', 'ATS8p', 'AATSC4are', 'SpAD_DzZ', 'ATS4p', 'nBondsA', 'Zagreb2', 'ATS1d', 'SpMax_Dzi', 'GATS2v', 'ZMIC3', 'AATSC1c', 'SpMAD_Dzse', 'Xc-6dv', 'SpDiam_D', 'MATS3m', 'Xch-4d', 'ETA_shape_x', 'AATSC6v', 'AXp-6dv', 'ATSC1m', 'ATS7pe', 'GATS5are', 'ATSC1v', 'PNSA4', 'Mor01p', 'VE2_Dzse', 'Kier1', 'ETA_eta_BR', 'SsOH', 'AATSC2are', 'MOMI-Y', 'AATS7dv', 'SdO', 'StsC', 'AATS0v', 'SpMAD_Dzi', 'ETA_eta_R', 'ATS3d', 'ATS8Z', 'MATS2d', 'VR1_D', 'ATS7s', 'VR3_Dzv', 'ATS5d', 'VE1_Dzv', 'SpMAD_D', 'MWC08', 'AATS4are', 'MINaasC', 'BIC3', 'AATS3pe', 'nG12FaHRing', 'ATS1i', 'GATS7d', 'GATS8c', 'ATSC4pe', 'Xp-4d', 'Xp-1dv', 'Mp', 'TIC0', 'CIC5', 'AATS1Z', 'ATSC3se', 'Xc-3d', 'AETA_beta_ns_d', 'VR2_DzZ', 'ATS8are', 'MWC05', 'MATS3pe', 'MIC4', 'MATS7c', 'nBondsO', 'MPC3', 'n5AHRing', 'SpDiam_Dzv', 'AATSC0m', 'MATS1Z', 'MATS2m', 'ATS8d', 'MATS4are', 'MATS3are', 'DPSA1', 'ATS0are', 'VR1_Dzv', 'WNSA4', 'ATS2pe', 'VAdjMat', 'ATSC2se', 'IC1', 'AATS2Z', 'AMID_N', 'ATS7se', 'GATS4s', 'bpol', 'MATS1m', 'ATSC6are', 'VE3_Dzm', 'SdssC', 'ATS8dv', 'ETA_eta', 'SRW10', 'ATS2s', 'GGI8', 'nAtom', 'AXp-6d', 'BCUTv-1h', 'MATS2Z', 'ATSC7c', 'AATS4v', 'AATS2i', 'ZMIC0', 'GATS7m', 'TASA', 'SsNH2', 'VR3_Dt', 'ATS3v', 'MIC3', 'FNSA5', 'AATS0p', 'AATS6s', 'SpAD_D', 'SpAD_A', 'DPSA4', 'ATSC3are', 'Xc-4dv', 'MPC2', 'GGI9', 'EState_VSA5', 'MID_C', 'SssNH', 'ATS8m', 'MATS6d', 'AATSC1v', 'MATS5pe', 'VE2_Dzare', 'AATS7d', 'ATS4se', 'MATS8i', 'GATS2c', 'WPSA3', 'AATS5s', 'ATS6m', 'AETA_eta_L', 'AATSC8i', 'NdO', 'piPC9', 'PNSA3', 'SMR_VSA2', 'ATSC5pe', 'MATS7d', 'Mor01v', 'AATSC6p', 'GATS5pe', 'Xch-5dv', 'SssssC', 'MATS2dv', 'SpMAD_DzZ', 'VR3_Dzp', 'VE1_DzZ', 'ETA_epsilon_1', 'AATSC2s', 'ETA_dEpsilon_B', 'ATS8pe', 'Diameter', 'AATS0se', 'MATS8Z', 'SpAbs_Dzp', 'ETA_epsilon_4', 'LogEE_DzZ', 'AATSC7se', 'LogEE_Dzpe', 'MWC10', 'ATS6s', 'GATS1m', 'FNSA1', 'n6aRing', 'n6ARing', 'GATS1pe', 'VR3_D', 'AATS4Z', 'ATSC0m', 'VE1_Dzpe', 'GATS8are', 'piPC4', 'MATS1dv', 'MATS4d', 'AATS6dv', 'SpAD_Dzv', 'ATSC0v', 'AMID', 'n12FaHRing', 'BIC2', 'MATS7v', 'AATSC1are', 'naRing', 'AATS2m', 'ATSC1pe', 'PEOE_VSA3', 'VE3_Dzare', 'Kier3', 'AATSC2pe', 'WPSA4', 'VE2_Dt', 'MATS3s', 'MATS2p', 'AATS6d', 'BCUTZ-1h', 'GATS5dv', 'SsCl', 'VE1_Dzse', 'FPSA4', 'AATSC4se', 'AATSC5p', 'PEOE_VSA5', 'MATS6Z', 'SpMAD_Dzv', 'ATS1m', 'SM1_Dzi', 'VE1_Dzare', 'SpDiam_Dzare', 'MZ', 'BCUTp-1h', 'NtsC', 'ATS0dv', 'ATSC3m', 'AATSC0c', 'MATS4c', 'CIC3', 'VR2_Dzare', 'SpAD_Dzse', 'VE1_Dzm', 'NsF', 'ATS7m', 'AATS5dv', 'MATS5v', 'Xp-4dv', 'PPSA4', 'SM1_Dzm', 'GATS1c', 'SRW05', 'GATS3s', 'GATS6are', 'AATS0pe', 'AETA_eta_BR', 'GeomRadius', 'VR1_Dzm', 'Xpc-5dv', 'GATS3Z', 'MATS6s', 'MWC04', 'ATS3m', 'AATSC1m', 'BCUTdv-1h', 'ATSC0pe', 'NsssCH', 'ATSC5c', 'mZagreb2', 'GATS6c', 'AATS0m', 'AATS0are', 'Kier2', 'VR3_Dzm', 'AATS2p', 'TIC2', 'DPSA3', 'MATS7Z', 'nBondsT', 'Xp-0dv', 'GATS8d', 'AATSC7d', 'Xpc-5d', 'MATS3d', 'GATS7p', 'AATS1dv'}\n"
     ]
    }
   ],
   "source": [
    "for i in range(len(correlation_matrix.columns)):\n",
    "    for j in range(i):\n",
    "        if abs(correlation_matrix.iloc[i,j]) > 0.8:\n",
    "            colname = correlation_matrix.columns[i]\n",
    "            correlated_features.add(colname)\n",
    "            \n",
    "print(correlated_features)"
   ]
  },
  {
   "cell_type": "code",
   "execution_count": 16,
   "metadata": {},
   "outputs": [
    {
     "name": "stdout",
     "output_type": "stream",
     "text": [
      "Correlated descriptors computed: 1102\n",
      "Number of descriptors before discard: 1503\n",
      "Number of descriptors after discard: 401\n"
     ]
    }
   ],
   "source": [
    "print(\"Correlated descriptors computed: {}\".format(len(correlated_features)))\n",
    "print(\"Number of descriptors before discard: {}\".format(len(dummy_df.columns)))\n",
    "dummy_df = dummy_df.drop(correlated_features, axis=1)\n",
    "print(\"Number of descriptors after discard: {}\".format(len(dummy_df.columns)))"
   ]
  },
  {
   "cell_type": "markdown",
   "metadata": {},
   "source": [
    "#### Correlation matrix"
   ]
  },
  {
   "cell_type": "code",
   "execution_count": 17,
   "metadata": {},
   "outputs": [
    {
     "data": {
      "image/png": "[encoded data removed]",
      "text/plain": [
       "<Figure size 1368x1080 with 2 Axes>"
      ]
     },
     "metadata": {
      "needs_background": "light"
     },
     "output_type": "display_data"
    }
   ],
   "source": [
    "f = plt.figure(figsize=(19, 15))\n",
    "plt.matshow(dummy_df.corr(), fignum=f.number)\n",
    "plt.xticks(range(dummy_df.shape[1]), dummy_df.columns, fontsize=10, rotation=45)\n",
    "plt.yticks(range(dummy_df.shape[1]), dummy_df.columns, fontsize=10)\n",
    "cb = plt.colorbar()\n",
    "cb.ax.tick_params(labelsize=1)\n",
    "plt.title('Correlation Matrix', fontsize=16);"
   ]
  },
  {
   "cell_type": "markdown",
   "metadata": {},
   "source": [
    "### Data splitting"
   ]
  },
  {
   "cell_type": "code",
   "execution_count": 18,
   "metadata": {},
   "outputs": [],
   "source": [
    "dummy_df = dummy_df.merge(pic50_raw, how='left')"
   ]
  },
  {
   "cell_type": "code",
   "execution_count": 19,
   "metadata": {},
   "outputs": [
    {
     "data": {
      "text/html": [
       "<div>\n",
       "<style scoped>\n",
       "    .dataframe tbody tr th:only-of-type {\n",
       "        vertical-align: middle;\n",
       "    }\n",
       "\n",
       "    .dataframe tbody tr th {\n",
       "        vertical-align: top;\n",
       "    }\n",
       "\n",
       "    .dataframe thead th {\n",
       "        text-align: right;\n",
       "    }\n",
       "</style>\n",
       "<table border=\"1\" class=\"dataframe\">\n",
       "  <thead>\n",
       "    <tr style=\"text-align: right;\">\n",
       "      <th></th>\n",
       "      <th>Ligand</th>\n",
       "      <th>ABC</th>\n",
       "      <th>nAcid</th>\n",
       "      <th>nBase</th>\n",
       "      <th>SpMax_A</th>\n",
       "      <th>SpMAD_A</th>\n",
       "      <th>VE1_A</th>\n",
       "      <th>VR1_A</th>\n",
       "      <th>nAromAtom</th>\n",
       "      <th>nSpiro</th>\n",
       "      <th>...</th>\n",
       "      <th>JGI4</th>\n",
       "      <th>JGI5</th>\n",
       "      <th>JGI6</th>\n",
       "      <th>JGI7</th>\n",
       "      <th>JGI8</th>\n",
       "      <th>JGI9</th>\n",
       "      <th>JGI10</th>\n",
       "      <th>TopoShapeIndex</th>\n",
       "      <th>TSRW10</th>\n",
       "      <th>IC50</th>\n",
       "    </tr>\n",
       "  </thead>\n",
       "  <tbody>\n",
       "    <tr>\n",
       "      <th>0</th>\n",
       "      <td>12_LAS203756</td>\n",
       "      <td>24.793826</td>\n",
       "      <td>0</td>\n",
       "      <td>0</td>\n",
       "      <td>2.499482</td>\n",
       "      <td>1.322700</td>\n",
       "      <td>4.440538</td>\n",
       "      <td>597.574331</td>\n",
       "      <td>18</td>\n",
       "      <td>0</td>\n",
       "      <td>...</td>\n",
       "      <td>0.026757</td>\n",
       "      <td>0.028958</td>\n",
       "      <td>0.017766</td>\n",
       "      <td>0.015289</td>\n",
       "      <td>0.008381</td>\n",
       "      <td>0.006972</td>\n",
       "      <td>0.006926</td>\n",
       "      <td>0.875</td>\n",
       "      <td>81.186093</td>\n",
       "      <td>-4.824</td>\n",
       "    </tr>\n",
       "    <tr>\n",
       "      <th>1</th>\n",
       "      <td>13_LAS203888</td>\n",
       "      <td>17.953468</td>\n",
       "      <td>0</td>\n",
       "      <td>0</td>\n",
       "      <td>2.481106</td>\n",
       "      <td>1.246964</td>\n",
       "      <td>3.925606</td>\n",
       "      <td>230.400001</td>\n",
       "      <td>15</td>\n",
       "      <td>0</td>\n",
       "      <td>...</td>\n",
       "      <td>0.040794</td>\n",
       "      <td>0.033704</td>\n",
       "      <td>0.018925</td>\n",
       "      <td>0.013818</td>\n",
       "      <td>0.014253</td>\n",
       "      <td>0.012246</td>\n",
       "      <td>0.004115</td>\n",
       "      <td>1.000</td>\n",
       "      <td>71.498752</td>\n",
       "      <td>-10.292</td>\n",
       "    </tr>\n",
       "    <tr>\n",
       "      <th>2</th>\n",
       "      <td>14_LAS203900</td>\n",
       "      <td>24.017769</td>\n",
       "      <td>0</td>\n",
       "      <td>1</td>\n",
       "      <td>2.489954</td>\n",
       "      <td>1.330078</td>\n",
       "      <td>4.496545</td>\n",
       "      <td>499.352788</td>\n",
       "      <td>21</td>\n",
       "      <td>0</td>\n",
       "      <td>...</td>\n",
       "      <td>0.028804</td>\n",
       "      <td>0.016311</td>\n",
       "      <td>0.018386</td>\n",
       "      <td>0.012110</td>\n",
       "      <td>0.005810</td>\n",
       "      <td>0.006563</td>\n",
       "      <td>0.004835</td>\n",
       "      <td>0.875</td>\n",
       "      <td>79.976698</td>\n",
       "      <td>-7.284</td>\n",
       "    </tr>\n",
       "    <tr>\n",
       "      <th>3</th>\n",
       "      <td>15_LAS203932</td>\n",
       "      <td>23.529442</td>\n",
       "      <td>0</td>\n",
       "      <td>0</td>\n",
       "      <td>2.438811</td>\n",
       "      <td>1.287772</td>\n",
       "      <td>4.888546</td>\n",
       "      <td>227.217438</td>\n",
       "      <td>17</td>\n",
       "      <td>0</td>\n",
       "      <td>...</td>\n",
       "      <td>0.034610</td>\n",
       "      <td>0.025721</td>\n",
       "      <td>0.017908</td>\n",
       "      <td>0.013517</td>\n",
       "      <td>0.010860</td>\n",
       "      <td>0.008173</td>\n",
       "      <td>0.008159</td>\n",
       "      <td>1.000</td>\n",
       "      <td>85.157707</td>\n",
       "      <td>-11.456</td>\n",
       "    </tr>\n",
       "    <tr>\n",
       "      <th>4</th>\n",
       "      <td>16_LAS203965</td>\n",
       "      <td>21.896449</td>\n",
       "      <td>0</td>\n",
       "      <td>0</td>\n",
       "      <td>2.550926</td>\n",
       "      <td>1.310703</td>\n",
       "      <td>4.089075</td>\n",
       "      <td>1640.002566</td>\n",
       "      <td>18</td>\n",
       "      <td>0</td>\n",
       "      <td>...</td>\n",
       "      <td>0.040631</td>\n",
       "      <td>0.025306</td>\n",
       "      <td>0.017225</td>\n",
       "      <td>0.012408</td>\n",
       "      <td>0.009386</td>\n",
       "      <td>0.009661</td>\n",
       "      <td>0.006200</td>\n",
       "      <td>0.875</td>\n",
       "      <td>79.570682</td>\n",
       "      <td>-7.259</td>\n",
       "    </tr>\n",
       "  </tbody>\n",
       "</table>\n",
       "<p>5 rows × 402 columns</p>\n",
       "</div>"
      ],
      "text/plain": [
       "         Ligand        ABC  nAcid  nBase   SpMax_A   SpMAD_A     VE1_A  \\\n",
       "0  12_LAS203756  24.793826      0      0  2.499482  1.322700  4.440538   \n",
       "1  13_LAS203888  17.953468      0      0  2.481106  1.246964  3.925606   \n",
       "2  14_LAS203900  24.017769      0      1  2.489954  1.330078  4.496545   \n",
       "3  15_LAS203932  23.529442      0      0  2.438811  1.287772  4.888546   \n",
       "4  16_LAS203965  21.896449      0      0  2.550926  1.310703  4.089075   \n",
       "\n",
       "         VR1_A  nAromAtom  nSpiro  ...      JGI4      JGI5      JGI6  \\\n",
       "0   597.574331         18       0  ...  0.026757  0.028958  0.017766   \n",
       "1   230.400001         15       0  ...  0.040794  0.033704  0.018925   \n",
       "2   499.352788         21       0  ...  0.028804  0.016311  0.018386   \n",
       "3   227.217438         17       0  ...  0.034610  0.025721  0.017908   \n",
       "4  1640.002566         18       0  ...  0.040631  0.025306  0.017225   \n",
       "\n",
       "       JGI7      JGI8      JGI9     JGI10  TopoShapeIndex     TSRW10    IC50  \n",
       "0  0.015289  0.008381  0.006972  0.006926           0.875  81.186093  -4.824  \n",
       "1  0.013818  0.014253  0.012246  0.004115           1.000  71.498752 -10.292  \n",
       "2  0.012110  0.005810  0.006563  0.004835           0.875  79.976698  -7.284  \n",
       "3  0.013517  0.010860  0.008173  0.008159           1.000  85.157707 -11.456  \n",
       "4  0.012408  0.009386  0.009661  0.006200           0.875  79.570682  -7.259  \n",
       "\n",
       "[5 rows x 402 columns]"
      ]
     },
     "execution_count": 19,
     "metadata": {},
     "output_type": "execute_result"
    }
   ],
   "source": [
    "dummy_df.head()"
   ]
  },
  {
   "cell_type": "code",
   "execution_count": 75,
   "metadata": {},
   "outputs": [],
   "source": [
    "train, test = train_test_split(dummy_df, test_size=0.24)"
   ]
  },
  {
   "cell_type": "code",
   "execution_count": 76,
   "metadata": {},
   "outputs": [
    {
     "data": {
      "text/html": [
       "<div>\n",
       "<style scoped>\n",
       "    .dataframe tbody tr th:only-of-type {\n",
       "        vertical-align: middle;\n",
       "    }\n",
       "\n",
       "    .dataframe tbody tr th {\n",
       "        vertical-align: top;\n",
       "    }\n",
       "\n",
       "    .dataframe thead th {\n",
       "        text-align: right;\n",
       "    }\n",
       "</style>\n",
       "<table border=\"1\" class=\"dataframe\">\n",
       "  <thead>\n",
       "    <tr style=\"text-align: right;\">\n",
       "      <th></th>\n",
       "      <th>Ligand</th>\n",
       "      <th>ABC</th>\n",
       "      <th>nAcid</th>\n",
       "      <th>nBase</th>\n",
       "      <th>SpMax_A</th>\n",
       "      <th>SpMAD_A</th>\n",
       "      <th>VE1_A</th>\n",
       "      <th>VR1_A</th>\n",
       "      <th>nAromAtom</th>\n",
       "      <th>nSpiro</th>\n",
       "      <th>...</th>\n",
       "      <th>JGI4</th>\n",
       "      <th>JGI5</th>\n",
       "      <th>JGI6</th>\n",
       "      <th>JGI7</th>\n",
       "      <th>JGI8</th>\n",
       "      <th>JGI9</th>\n",
       "      <th>JGI10</th>\n",
       "      <th>TopoShapeIndex</th>\n",
       "      <th>TSRW10</th>\n",
       "      <th>IC50</th>\n",
       "    </tr>\n",
       "  </thead>\n",
       "  <tbody>\n",
       "    <tr>\n",
       "      <th>18</th>\n",
       "      <td>31_SD-019</td>\n",
       "      <td>23.128092</td>\n",
       "      <td>0</td>\n",
       "      <td>0</td>\n",
       "      <td>2.485026</td>\n",
       "      <td>1.265543</td>\n",
       "      <td>4.589305</td>\n",
       "      <td>245.959491</td>\n",
       "      <td>12</td>\n",
       "      <td>0</td>\n",
       "      <td>...</td>\n",
       "      <td>0.036926</td>\n",
       "      <td>0.024543</td>\n",
       "      <td>0.020116</td>\n",
       "      <td>0.014527</td>\n",
       "      <td>0.015052</td>\n",
       "      <td>0.009667</td>\n",
       "      <td>0.009047</td>\n",
       "      <td>1.000000</td>\n",
       "      <td>84.463671</td>\n",
       "      <td>-7.886</td>\n",
       "    </tr>\n",
       "    <tr>\n",
       "      <th>5</th>\n",
       "      <td>17_SD-002</td>\n",
       "      <td>20.810405</td>\n",
       "      <td>0</td>\n",
       "      <td>0</td>\n",
       "      <td>2.411799</td>\n",
       "      <td>1.257524</td>\n",
       "      <td>4.763671</td>\n",
       "      <td>169.907127</td>\n",
       "      <td>12</td>\n",
       "      <td>0</td>\n",
       "      <td>...</td>\n",
       "      <td>0.032724</td>\n",
       "      <td>0.030293</td>\n",
       "      <td>0.017606</td>\n",
       "      <td>0.016470</td>\n",
       "      <td>0.009910</td>\n",
       "      <td>0.009087</td>\n",
       "      <td>0.008048</td>\n",
       "      <td>1.000000</td>\n",
       "      <td>80.526405</td>\n",
       "      <td>-8.337</td>\n",
       "    </tr>\n",
       "    <tr>\n",
       "      <th>25</th>\n",
       "      <td>38_SD-026</td>\n",
       "      <td>20.579394</td>\n",
       "      <td>0</td>\n",
       "      <td>2</td>\n",
       "      <td>2.567485</td>\n",
       "      <td>1.276277</td>\n",
       "      <td>4.206620</td>\n",
       "      <td>241.043676</td>\n",
       "      <td>10</td>\n",
       "      <td>0</td>\n",
       "      <td>...</td>\n",
       "      <td>0.048462</td>\n",
       "      <td>0.034330</td>\n",
       "      <td>0.019147</td>\n",
       "      <td>0.014064</td>\n",
       "      <td>0.011379</td>\n",
       "      <td>0.011941</td>\n",
       "      <td>0.010209</td>\n",
       "      <td>1.000000</td>\n",
       "      <td>77.712224</td>\n",
       "      <td>-5.174</td>\n",
       "    </tr>\n",
       "    <tr>\n",
       "      <th>22</th>\n",
       "      <td>35_SD-023</td>\n",
       "      <td>22.931725</td>\n",
       "      <td>0</td>\n",
       "      <td>0</td>\n",
       "      <td>2.433999</td>\n",
       "      <td>1.275335</td>\n",
       "      <td>4.873163</td>\n",
       "      <td>204.691400</td>\n",
       "      <td>17</td>\n",
       "      <td>0</td>\n",
       "      <td>...</td>\n",
       "      <td>0.029697</td>\n",
       "      <td>0.029065</td>\n",
       "      <td>0.015626</td>\n",
       "      <td>0.016370</td>\n",
       "      <td>0.008494</td>\n",
       "      <td>0.010563</td>\n",
       "      <td>0.006171</td>\n",
       "      <td>1.000000</td>\n",
       "      <td>84.032246</td>\n",
       "      <td>-6.886</td>\n",
       "    </tr>\n",
       "    <tr>\n",
       "      <th>2</th>\n",
       "      <td>14_LAS203900</td>\n",
       "      <td>24.017769</td>\n",
       "      <td>0</td>\n",
       "      <td>1</td>\n",
       "      <td>2.489954</td>\n",
       "      <td>1.330078</td>\n",
       "      <td>4.496545</td>\n",
       "      <td>499.352788</td>\n",
       "      <td>21</td>\n",
       "      <td>0</td>\n",
       "      <td>...</td>\n",
       "      <td>0.028804</td>\n",
       "      <td>0.016311</td>\n",
       "      <td>0.018386</td>\n",
       "      <td>0.012110</td>\n",
       "      <td>0.005810</td>\n",
       "      <td>0.006563</td>\n",
       "      <td>0.004835</td>\n",
       "      <td>0.875000</td>\n",
       "      <td>79.976698</td>\n",
       "      <td>-7.284</td>\n",
       "    </tr>\n",
       "    <tr>\n",
       "      <th>0</th>\n",
       "      <td>12_LAS203756</td>\n",
       "      <td>24.793826</td>\n",
       "      <td>0</td>\n",
       "      <td>0</td>\n",
       "      <td>2.499482</td>\n",
       "      <td>1.322700</td>\n",
       "      <td>4.440538</td>\n",
       "      <td>597.574331</td>\n",
       "      <td>18</td>\n",
       "      <td>0</td>\n",
       "      <td>...</td>\n",
       "      <td>0.026757</td>\n",
       "      <td>0.028958</td>\n",
       "      <td>0.017766</td>\n",
       "      <td>0.015289</td>\n",
       "      <td>0.008381</td>\n",
       "      <td>0.006972</td>\n",
       "      <td>0.006926</td>\n",
       "      <td>0.875000</td>\n",
       "      <td>81.186093</td>\n",
       "      <td>-4.824</td>\n",
       "    </tr>\n",
       "    <tr>\n",
       "      <th>11</th>\n",
       "      <td>23_SD-011</td>\n",
       "      <td>21.679272</td>\n",
       "      <td>0</td>\n",
       "      <td>0</td>\n",
       "      <td>2.366948</td>\n",
       "      <td>1.253763</td>\n",
       "      <td>4.624579</td>\n",
       "      <td>283.956052</td>\n",
       "      <td>17</td>\n",
       "      <td>0</td>\n",
       "      <td>...</td>\n",
       "      <td>0.021742</td>\n",
       "      <td>0.029689</td>\n",
       "      <td>0.016776</td>\n",
       "      <td>0.014010</td>\n",
       "      <td>0.008412</td>\n",
       "      <td>0.009403</td>\n",
       "      <td>0.008081</td>\n",
       "      <td>0.888889</td>\n",
       "      <td>76.413702</td>\n",
       "      <td>-7.854</td>\n",
       "    </tr>\n",
       "  </tbody>\n",
       "</table>\n",
       "<p>7 rows × 402 columns</p>\n",
       "</div>"
      ],
      "text/plain": [
       "          Ligand        ABC  nAcid  nBase   SpMax_A   SpMAD_A     VE1_A  \\\n",
       "18     31_SD-019  23.128092      0      0  2.485026  1.265543  4.589305   \n",
       "5      17_SD-002  20.810405      0      0  2.411799  1.257524  4.763671   \n",
       "25     38_SD-026  20.579394      0      2  2.567485  1.276277  4.206620   \n",
       "22     35_SD-023  22.931725      0      0  2.433999  1.275335  4.873163   \n",
       "2   14_LAS203900  24.017769      0      1  2.489954  1.330078  4.496545   \n",
       "0   12_LAS203756  24.793826      0      0  2.499482  1.322700  4.440538   \n",
       "11     23_SD-011  21.679272      0      0  2.366948  1.253763  4.624579   \n",
       "\n",
       "         VR1_A  nAromAtom  nSpiro  ...      JGI4      JGI5      JGI6  \\\n",
       "18  245.959491         12       0  ...  0.036926  0.024543  0.020116   \n",
       "5   169.907127         12       0  ...  0.032724  0.030293  0.017606   \n",
       "25  241.043676         10       0  ...  0.048462  0.034330  0.019147   \n",
       "22  204.691400         17       0  ...  0.029697  0.029065  0.015626   \n",
       "2   499.352788         21       0  ...  0.028804  0.016311  0.018386   \n",
       "0   597.574331         18       0  ...  0.026757  0.028958  0.017766   \n",
       "11  283.956052         17       0  ...  0.021742  0.029689  0.016776   \n",
       "\n",
       "        JGI7      JGI8      JGI9     JGI10  TopoShapeIndex     TSRW10   IC50  \n",
       "18  0.014527  0.015052  0.009667  0.009047        1.000000  84.463671 -7.886  \n",
       "5   0.016470  0.009910  0.009087  0.008048        1.000000  80.526405 -8.337  \n",
       "25  0.014064  0.011379  0.011941  0.010209        1.000000  77.712224 -5.174  \n",
       "22  0.016370  0.008494  0.010563  0.006171        1.000000  84.032246 -6.886  \n",
       "2   0.012110  0.005810  0.006563  0.004835        0.875000  79.976698 -7.284  \n",
       "0   0.015289  0.008381  0.006972  0.006926        0.875000  81.186093 -4.824  \n",
       "11  0.014010  0.008412  0.009403  0.008081        0.888889  76.413702 -7.854  \n",
       "\n",
       "[7 rows x 402 columns]"
      ]
     },
     "execution_count": 76,
     "metadata": {},
     "output_type": "execute_result"
    }
   ],
   "source": [
    "test"
   ]
  },
  {
   "cell_type": "code",
   "execution_count": 77,
   "metadata": {},
   "outputs": [
    {
     "data": {
      "text/html": [
       "<div>\n",
       "<style scoped>\n",
       "    .dataframe tbody tr th:only-of-type {\n",
       "        vertical-align: middle;\n",
       "    }\n",
       "\n",
       "    .dataframe tbody tr th {\n",
       "        vertical-align: top;\n",
       "    }\n",
       "\n",
       "    .dataframe thead th {\n",
       "        text-align: right;\n",
       "    }\n",
       "</style>\n",
       "<table border=\"1\" class=\"dataframe\">\n",
       "  <thead>\n",
       "    <tr style=\"text-align: right;\">\n",
       "      <th></th>\n",
       "      <th>Ligand</th>\n",
       "      <th>ABC</th>\n",
       "      <th>nAcid</th>\n",
       "      <th>nBase</th>\n",
       "      <th>SpMax_A</th>\n",
       "      <th>SpMAD_A</th>\n",
       "      <th>VE1_A</th>\n",
       "      <th>VR1_A</th>\n",
       "      <th>nAromAtom</th>\n",
       "      <th>nSpiro</th>\n",
       "      <th>...</th>\n",
       "      <th>JGI4</th>\n",
       "      <th>JGI5</th>\n",
       "      <th>JGI6</th>\n",
       "      <th>JGI7</th>\n",
       "      <th>JGI8</th>\n",
       "      <th>JGI9</th>\n",
       "      <th>JGI10</th>\n",
       "      <th>TopoShapeIndex</th>\n",
       "      <th>TSRW10</th>\n",
       "      <th>IC50</th>\n",
       "    </tr>\n",
       "  </thead>\n",
       "  <tbody>\n",
       "    <tr>\n",
       "      <th>26</th>\n",
       "      <td>39_SD-027</td>\n",
       "      <td>16.401355</td>\n",
       "      <td>0</td>\n",
       "      <td>0</td>\n",
       "      <td>2.351515</td>\n",
       "      <td>1.311378</td>\n",
       "      <td>3.989248</td>\n",
       "      <td>179.986399</td>\n",
       "      <td>12</td>\n",
       "      <td>0</td>\n",
       "      <td>...</td>\n",
       "      <td>0.040362</td>\n",
       "      <td>0.023865</td>\n",
       "      <td>0.009515</td>\n",
       "      <td>0.014640</td>\n",
       "      <td>0.009574</td>\n",
       "      <td>0.007217</td>\n",
       "      <td>0.007414</td>\n",
       "      <td>0.857143</td>\n",
       "      <td>72.950827</td>\n",
       "      <td>-4.824</td>\n",
       "    </tr>\n",
       "    <tr>\n",
       "      <th>9</th>\n",
       "      <td>21_SD-009</td>\n",
       "      <td>21.408122</td>\n",
       "      <td>0</td>\n",
       "      <td>0</td>\n",
       "      <td>2.415928</td>\n",
       "      <td>1.272444</td>\n",
       "      <td>4.819938</td>\n",
       "      <td>183.316566</td>\n",
       "      <td>12</td>\n",
       "      <td>0</td>\n",
       "      <td>...</td>\n",
       "      <td>0.035038</td>\n",
       "      <td>0.028826</td>\n",
       "      <td>0.017143</td>\n",
       "      <td>0.015625</td>\n",
       "      <td>0.010097</td>\n",
       "      <td>0.009063</td>\n",
       "      <td>0.008072</td>\n",
       "      <td>1.000000</td>\n",
       "      <td>81.665307</td>\n",
       "      <td>-9.268</td>\n",
       "    </tr>\n",
       "    <tr>\n",
       "      <th>7</th>\n",
       "      <td>19_SD-006</td>\n",
       "      <td>20.046279</td>\n",
       "      <td>0</td>\n",
       "      <td>0</td>\n",
       "      <td>2.366458</td>\n",
       "      <td>1.287238</td>\n",
       "      <td>4.561329</td>\n",
       "      <td>210.869853</td>\n",
       "      <td>17</td>\n",
       "      <td>0</td>\n",
       "      <td>...</td>\n",
       "      <td>0.024377</td>\n",
       "      <td>0.028020</td>\n",
       "      <td>0.018295</td>\n",
       "      <td>0.011736</td>\n",
       "      <td>0.009113</td>\n",
       "      <td>0.008393</td>\n",
       "      <td>0.009068</td>\n",
       "      <td>1.000000</td>\n",
       "      <td>74.088365</td>\n",
       "      <td>-8.194</td>\n",
       "    </tr>\n",
       "    <tr>\n",
       "      <th>20</th>\n",
       "      <td>33_SD-021</td>\n",
       "      <td>25.622253</td>\n",
       "      <td>0</td>\n",
       "      <td>0</td>\n",
       "      <td>2.474584</td>\n",
       "      <td>1.306494</td>\n",
       "      <td>4.328259</td>\n",
       "      <td>561.790476</td>\n",
       "      <td>18</td>\n",
       "      <td>0</td>\n",
       "      <td>...</td>\n",
       "      <td>0.026194</td>\n",
       "      <td>0.027943</td>\n",
       "      <td>0.014496</td>\n",
       "      <td>0.013086</td>\n",
       "      <td>0.009859</td>\n",
       "      <td>0.009540</td>\n",
       "      <td>0.005906</td>\n",
       "      <td>1.000000</td>\n",
       "      <td>82.166191</td>\n",
       "      <td>-6.469</td>\n",
       "    </tr>\n",
       "    <tr>\n",
       "      <th>24</th>\n",
       "      <td>37_SD-025</td>\n",
       "      <td>22.753386</td>\n",
       "      <td>1</td>\n",
       "      <td>0</td>\n",
       "      <td>2.475054</td>\n",
       "      <td>1.300798</td>\n",
       "      <td>4.367584</td>\n",
       "      <td>549.602686</td>\n",
       "      <td>15</td>\n",
       "      <td>0</td>\n",
       "      <td>...</td>\n",
       "      <td>0.038463</td>\n",
       "      <td>0.026222</td>\n",
       "      <td>0.019152</td>\n",
       "      <td>0.014123</td>\n",
       "      <td>0.012124</td>\n",
       "      <td>0.009138</td>\n",
       "      <td>0.007070</td>\n",
       "      <td>0.875000</td>\n",
       "      <td>78.590066</td>\n",
       "      <td>-6.854</td>\n",
       "    </tr>\n",
       "    <tr>\n",
       "      <th>10</th>\n",
       "      <td>22_SD-010</td>\n",
       "      <td>24.288920</td>\n",
       "      <td>0</td>\n",
       "      <td>1</td>\n",
       "      <td>2.367520</td>\n",
       "      <td>1.301283</td>\n",
       "      <td>4.747259</td>\n",
       "      <td>419.620993</td>\n",
       "      <td>17</td>\n",
       "      <td>0</td>\n",
       "      <td>...</td>\n",
       "      <td>0.023889</td>\n",
       "      <td>0.025965</td>\n",
       "      <td>0.015395</td>\n",
       "      <td>0.010213</td>\n",
       "      <td>0.007749</td>\n",
       "      <td>0.007639</td>\n",
       "      <td>0.006485</td>\n",
       "      <td>0.900000</td>\n",
       "      <td>80.035639</td>\n",
       "      <td>-8.721</td>\n",
       "    </tr>\n",
       "    <tr>\n",
       "      <th>23</th>\n",
       "      <td>36_SD-024</td>\n",
       "      <td>17.236029</td>\n",
       "      <td>0</td>\n",
       "      <td>3</td>\n",
       "      <td>2.465598</td>\n",
       "      <td>1.236262</td>\n",
       "      <td>4.134028</td>\n",
       "      <td>180.284855</td>\n",
       "      <td>5</td>\n",
       "      <td>0</td>\n",
       "      <td>...</td>\n",
       "      <td>0.032796</td>\n",
       "      <td>0.031099</td>\n",
       "      <td>0.023850</td>\n",
       "      <td>0.017306</td>\n",
       "      <td>0.014143</td>\n",
       "      <td>0.010605</td>\n",
       "      <td>0.007522</td>\n",
       "      <td>1.000000</td>\n",
       "      <td>70.296651</td>\n",
       "      <td>-5.509</td>\n",
       "    </tr>\n",
       "    <tr>\n",
       "      <th>15</th>\n",
       "      <td>27_SD-015</td>\n",
       "      <td>27.512863</td>\n",
       "      <td>0</td>\n",
       "      <td>0</td>\n",
       "      <td>2.492887</td>\n",
       "      <td>1.336666</td>\n",
       "      <td>4.823638</td>\n",
       "      <td>530.661007</td>\n",
       "      <td>21</td>\n",
       "      <td>0</td>\n",
       "      <td>...</td>\n",
       "      <td>0.034931</td>\n",
       "      <td>0.021442</td>\n",
       "      <td>0.017890</td>\n",
       "      <td>0.010635</td>\n",
       "      <td>0.008011</td>\n",
       "      <td>0.007116</td>\n",
       "      <td>0.005979</td>\n",
       "      <td>1.000000</td>\n",
       "      <td>85.660541</td>\n",
       "      <td>-6.509</td>\n",
       "    </tr>\n",
       "    <tr>\n",
       "      <th>6</th>\n",
       "      <td>18_SD-003</td>\n",
       "      <td>20.632065</td>\n",
       "      <td>0</td>\n",
       "      <td>0</td>\n",
       "      <td>2.403846</td>\n",
       "      <td>1.291365</td>\n",
       "      <td>4.680105</td>\n",
       "      <td>186.452688</td>\n",
       "      <td>12</td>\n",
       "      <td>0</td>\n",
       "      <td>...</td>\n",
       "      <td>0.033764</td>\n",
       "      <td>0.028882</td>\n",
       "      <td>0.016961</td>\n",
       "      <td>0.013696</td>\n",
       "      <td>0.009962</td>\n",
       "      <td>0.008996</td>\n",
       "      <td>0.007448</td>\n",
       "      <td>1.000000</td>\n",
       "      <td>80.381982</td>\n",
       "      <td>-9.284</td>\n",
       "    </tr>\n",
       "    <tr>\n",
       "      <th>14</th>\n",
       "      <td>26_SD-014</td>\n",
       "      <td>25.012606</td>\n",
       "      <td>0</td>\n",
       "      <td>0</td>\n",
       "      <td>2.442549</td>\n",
       "      <td>1.278882</td>\n",
       "      <td>4.985878</td>\n",
       "      <td>258.000375</td>\n",
       "      <td>11</td>\n",
       "      <td>0</td>\n",
       "      <td>...</td>\n",
       "      <td>0.031133</td>\n",
       "      <td>0.029494</td>\n",
       "      <td>0.016569</td>\n",
       "      <td>0.014376</td>\n",
       "      <td>0.009877</td>\n",
       "      <td>0.009427</td>\n",
       "      <td>0.008426</td>\n",
       "      <td>0.857143</td>\n",
       "      <td>87.477037</td>\n",
       "      <td>-7.066</td>\n",
       "    </tr>\n",
       "    <tr>\n",
       "      <th>1</th>\n",
       "      <td>13_LAS203888</td>\n",
       "      <td>17.953468</td>\n",
       "      <td>0</td>\n",
       "      <td>0</td>\n",
       "      <td>2.481106</td>\n",
       "      <td>1.246964</td>\n",
       "      <td>3.925606</td>\n",
       "      <td>230.400001</td>\n",
       "      <td>15</td>\n",
       "      <td>0</td>\n",
       "      <td>...</td>\n",
       "      <td>0.040794</td>\n",
       "      <td>0.033704</td>\n",
       "      <td>0.018925</td>\n",
       "      <td>0.013818</td>\n",
       "      <td>0.014253</td>\n",
       "      <td>0.012246</td>\n",
       "      <td>0.004115</td>\n",
       "      <td>1.000000</td>\n",
       "      <td>71.498752</td>\n",
       "      <td>-10.292</td>\n",
       "    </tr>\n",
       "    <tr>\n",
       "      <th>19</th>\n",
       "      <td>32_SD-020</td>\n",
       "      <td>14.918192</td>\n",
       "      <td>0</td>\n",
       "      <td>1</td>\n",
       "      <td>2.344723</td>\n",
       "      <td>1.337137</td>\n",
       "      <td>3.746796</td>\n",
       "      <td>162.363851</td>\n",
       "      <td>6</td>\n",
       "      <td>0</td>\n",
       "      <td>...</td>\n",
       "      <td>0.038333</td>\n",
       "      <td>0.011819</td>\n",
       "      <td>0.016842</td>\n",
       "      <td>0.014282</td>\n",
       "      <td>0.007587</td>\n",
       "      <td>0.008993</td>\n",
       "      <td>0.004909</td>\n",
       "      <td>1.000000</td>\n",
       "      <td>70.424619</td>\n",
       "      <td>-5.699</td>\n",
       "    </tr>\n",
       "    <tr>\n",
       "      <th>3</th>\n",
       "      <td>15_LAS203932</td>\n",
       "      <td>23.529442</td>\n",
       "      <td>0</td>\n",
       "      <td>0</td>\n",
       "      <td>2.438811</td>\n",
       "      <td>1.287772</td>\n",
       "      <td>4.888546</td>\n",
       "      <td>227.217438</td>\n",
       "      <td>17</td>\n",
       "      <td>0</td>\n",
       "      <td>...</td>\n",
       "      <td>0.034610</td>\n",
       "      <td>0.025721</td>\n",
       "      <td>0.017908</td>\n",
       "      <td>0.013517</td>\n",
       "      <td>0.010860</td>\n",
       "      <td>0.008173</td>\n",
       "      <td>0.008159</td>\n",
       "      <td>1.000000</td>\n",
       "      <td>85.157707</td>\n",
       "      <td>-11.456</td>\n",
       "    </tr>\n",
       "    <tr>\n",
       "      <th>16</th>\n",
       "      <td>28_SD-016</td>\n",
       "      <td>22.155669</td>\n",
       "      <td>0</td>\n",
       "      <td>0</td>\n",
       "      <td>2.472679</td>\n",
       "      <td>1.298463</td>\n",
       "      <td>4.248758</td>\n",
       "      <td>512.393008</td>\n",
       "      <td>21</td>\n",
       "      <td>0</td>\n",
       "      <td>...</td>\n",
       "      <td>0.041382</td>\n",
       "      <td>0.026628</td>\n",
       "      <td>0.016893</td>\n",
       "      <td>0.014476</td>\n",
       "      <td>0.012213</td>\n",
       "      <td>0.010232</td>\n",
       "      <td>0.005941</td>\n",
       "      <td>1.000000</td>\n",
       "      <td>77.455606</td>\n",
       "      <td>-5.312</td>\n",
       "    </tr>\n",
       "    <tr>\n",
       "      <th>17</th>\n",
       "      <td>29_SD-017</td>\n",
       "      <td>21.644929</td>\n",
       "      <td>0</td>\n",
       "      <td>0</td>\n",
       "      <td>2.485455</td>\n",
       "      <td>1.268549</td>\n",
       "      <td>4.499820</td>\n",
       "      <td>213.294583</td>\n",
       "      <td>12</td>\n",
       "      <td>0</td>\n",
       "      <td>...</td>\n",
       "      <td>0.031415</td>\n",
       "      <td>0.028882</td>\n",
       "      <td>0.019152</td>\n",
       "      <td>0.017424</td>\n",
       "      <td>0.010971</td>\n",
       "      <td>0.011817</td>\n",
       "      <td>0.007332</td>\n",
       "      <td>0.833333</td>\n",
       "      <td>82.151483</td>\n",
       "      <td>-7.886</td>\n",
       "    </tr>\n",
       "    <tr>\n",
       "      <th>4</th>\n",
       "      <td>16_LAS203965</td>\n",
       "      <td>21.896449</td>\n",
       "      <td>0</td>\n",
       "      <td>0</td>\n",
       "      <td>2.550926</td>\n",
       "      <td>1.310703</td>\n",
       "      <td>4.089075</td>\n",
       "      <td>1640.002566</td>\n",
       "      <td>18</td>\n",
       "      <td>0</td>\n",
       "      <td>...</td>\n",
       "      <td>0.040631</td>\n",
       "      <td>0.025306</td>\n",
       "      <td>0.017225</td>\n",
       "      <td>0.012408</td>\n",
       "      <td>0.009386</td>\n",
       "      <td>0.009661</td>\n",
       "      <td>0.006200</td>\n",
       "      <td>0.875000</td>\n",
       "      <td>79.570682</td>\n",
       "      <td>-7.259</td>\n",
       "    </tr>\n",
       "    <tr>\n",
       "      <th>12</th>\n",
       "      <td>24_SD-012</td>\n",
       "      <td>23.120752</td>\n",
       "      <td>0</td>\n",
       "      <td>0</td>\n",
       "      <td>2.500037</td>\n",
       "      <td>1.268694</td>\n",
       "      <td>4.211544</td>\n",
       "      <td>399.710054</td>\n",
       "      <td>15</td>\n",
       "      <td>0</td>\n",
       "      <td>...</td>\n",
       "      <td>0.043320</td>\n",
       "      <td>0.020339</td>\n",
       "      <td>0.021463</td>\n",
       "      <td>0.016440</td>\n",
       "      <td>0.015736</td>\n",
       "      <td>0.007567</td>\n",
       "      <td>0.008254</td>\n",
       "      <td>0.875000</td>\n",
       "      <td>79.079406</td>\n",
       "      <td>-5.796</td>\n",
       "    </tr>\n",
       "    <tr>\n",
       "      <th>21</th>\n",
       "      <td>34_SD-022</td>\n",
       "      <td>23.351103</td>\n",
       "      <td>0</td>\n",
       "      <td>0</td>\n",
       "      <td>2.476474</td>\n",
       "      <td>1.339709</td>\n",
       "      <td>4.304570</td>\n",
       "      <td>477.298791</td>\n",
       "      <td>12</td>\n",
       "      <td>0</td>\n",
       "      <td>...</td>\n",
       "      <td>0.025678</td>\n",
       "      <td>0.025470</td>\n",
       "      <td>0.017059</td>\n",
       "      <td>0.011560</td>\n",
       "      <td>0.010303</td>\n",
       "      <td>0.007917</td>\n",
       "      <td>0.004845</td>\n",
       "      <td>0.875000</td>\n",
       "      <td>84.320646</td>\n",
       "      <td>-6.658</td>\n",
       "    </tr>\n",
       "    <tr>\n",
       "      <th>8</th>\n",
       "      <td>20_SD-008</td>\n",
       "      <td>23.460493</td>\n",
       "      <td>0</td>\n",
       "      <td>0</td>\n",
       "      <td>2.411196</td>\n",
       "      <td>1.278262</td>\n",
       "      <td>4.757935</td>\n",
       "      <td>316.952145</td>\n",
       "      <td>18</td>\n",
       "      <td>0</td>\n",
       "      <td>...</td>\n",
       "      <td>0.036019</td>\n",
       "      <td>0.027293</td>\n",
       "      <td>0.017415</td>\n",
       "      <td>0.015467</td>\n",
       "      <td>0.009770</td>\n",
       "      <td>0.008872</td>\n",
       "      <td>0.007778</td>\n",
       "      <td>0.875000</td>\n",
       "      <td>66.616922</td>\n",
       "      <td>-9.420</td>\n",
       "    </tr>\n",
       "    <tr>\n",
       "      <th>13</th>\n",
       "      <td>25_SD-013</td>\n",
       "      <td>19.815569</td>\n",
       "      <td>0</td>\n",
       "      <td>0</td>\n",
       "      <td>2.478858</td>\n",
       "      <td>1.316398</td>\n",
       "      <td>4.233297</td>\n",
       "      <td>226.646650</td>\n",
       "      <td>12</td>\n",
       "      <td>0</td>\n",
       "      <td>...</td>\n",
       "      <td>0.031713</td>\n",
       "      <td>0.023701</td>\n",
       "      <td>0.017913</td>\n",
       "      <td>0.011986</td>\n",
       "      <td>0.010239</td>\n",
       "      <td>0.009219</td>\n",
       "      <td>0.004347</td>\n",
       "      <td>0.833333</td>\n",
       "      <td>79.550518</td>\n",
       "      <td>-6.456</td>\n",
       "    </tr>\n",
       "  </tbody>\n",
       "</table>\n",
       "<p>20 rows × 402 columns</p>\n",
       "</div>"
      ],
      "text/plain": [
       "          Ligand        ABC  nAcid  nBase   SpMax_A   SpMAD_A     VE1_A  \\\n",
       "26     39_SD-027  16.401355      0      0  2.351515  1.311378  3.989248   \n",
       "9      21_SD-009  21.408122      0      0  2.415928  1.272444  4.819938   \n",
       "7      19_SD-006  20.046279      0      0  2.366458  1.287238  4.561329   \n",
       "20     33_SD-021  25.622253      0      0  2.474584  1.306494  4.328259   \n",
       "24     37_SD-025  22.753386      1      0  2.475054  1.300798  4.367584   \n",
       "10     22_SD-010  24.288920      0      1  2.367520  1.301283  4.747259   \n",
       "23     36_SD-024  17.236029      0      3  2.465598  1.236262  4.134028   \n",
       "15     27_SD-015  27.512863      0      0  2.492887  1.336666  4.823638   \n",
       "6      18_SD-003  20.632065      0      0  2.403846  1.291365  4.680105   \n",
       "14     26_SD-014  25.012606      0      0  2.442549  1.278882  4.985878   \n",
       "1   13_LAS203888  17.953468      0      0  2.481106  1.246964  3.925606   \n",
       "19     32_SD-020  14.918192      0      1  2.344723  1.337137  3.746796   \n",
       "3   15_LAS203932  23.529442      0      0  2.438811  1.287772  4.888546   \n",
       "16     28_SD-016  22.155669      0      0  2.472679  1.298463  4.248758   \n",
       "17     29_SD-017  21.644929      0      0  2.485455  1.268549  4.499820   \n",
       "4   16_LAS203965  21.896449      0      0  2.550926  1.310703  4.089075   \n",
       "12     24_SD-012  23.120752      0      0  2.500037  1.268694  4.211544   \n",
       "21     34_SD-022  23.351103      0      0  2.476474  1.339709  4.304570   \n",
       "8      20_SD-008  23.460493      0      0  2.411196  1.278262  4.757935   \n",
       "13     25_SD-013  19.815569      0      0  2.478858  1.316398  4.233297   \n",
       "\n",
       "          VR1_A  nAromAtom  nSpiro  ...      JGI4      JGI5      JGI6  \\\n",
       "26   179.986399         12       0  ...  0.040362  0.023865  0.009515   \n",
       "9    183.316566         12       0  ...  0.035038  0.028826  0.017143   \n",
       "7    210.869853         17       0  ...  0.024377  0.028020  0.018295   \n",
       "20   561.790476         18       0  ...  0.026194  0.027943  0.014496   \n",
       "24   549.602686         15       0  ...  0.038463  0.026222  0.019152   \n",
       "10   419.620993         17       0  ...  0.023889  0.025965  0.015395   \n",
       "23   180.284855          5       0  ...  0.032796  0.031099  0.023850   \n",
       "15   530.661007         21       0  ...  0.034931  0.021442  0.017890   \n",
       "6    186.452688         12       0  ...  0.033764  0.028882  0.016961   \n",
       "14   258.000375         11       0  ...  0.031133  0.029494  0.016569   \n",
       "1    230.400001         15       0  ...  0.040794  0.033704  0.018925   \n",
       "19   162.363851          6       0  ...  0.038333  0.011819  0.016842   \n",
       "3    227.217438         17       0  ...  0.034610  0.025721  0.017908   \n",
       "16   512.393008         21       0  ...  0.041382  0.026628  0.016893   \n",
       "17   213.294583         12       0  ...  0.031415  0.028882  0.019152   \n",
       "4   1640.002566         18       0  ...  0.040631  0.025306  0.017225   \n",
       "12   399.710054         15       0  ...  0.043320  0.020339  0.021463   \n",
       "21   477.298791         12       0  ...  0.025678  0.025470  0.017059   \n",
       "8    316.952145         18       0  ...  0.036019  0.027293  0.017415   \n",
       "13   226.646650         12       0  ...  0.031713  0.023701  0.017913   \n",
       "\n",
       "        JGI7      JGI8      JGI9     JGI10  TopoShapeIndex     TSRW10    IC50  \n",
       "26  0.014640  0.009574  0.007217  0.007414        0.857143  72.950827  -4.824  \n",
       "9   0.015625  0.010097  0.009063  0.008072        1.000000  81.665307  -9.268  \n",
       "7   0.011736  0.009113  0.008393  0.009068        1.000000  74.088365  -8.194  \n",
       "20  0.013086  0.009859  0.009540  0.005906        1.000000  82.166191  -6.469  \n",
       "24  0.014123  0.012124  0.009138  0.007070        0.875000  78.590066  -6.854  \n",
       "10  0.010213  0.007749  0.007639  0.006485        0.900000  80.035639  -8.721  \n",
       "23  0.017306  0.014143  0.010605  0.007522        1.000000  70.296651  -5.509  \n",
       "15  0.010635  0.008011  0.007116  0.005979        1.000000  85.660541  -6.509  \n",
       "6   0.013696  0.009962  0.008996  0.007448        1.000000  80.381982  -9.284  \n",
       "14  0.014376  0.009877  0.009427  0.008426        0.857143  87.477037  -7.066  \n",
       "1   0.013818  0.014253  0.012246  0.004115        1.000000  71.498752 -10.292  \n",
       "19  0.014282  0.007587  0.008993  0.004909        1.000000  70.424619  -5.699  \n",
       "3   0.013517  0.010860  0.008173  0.008159        1.000000  85.157707 -11.456  \n",
       "16  0.014476  0.012213  0.010232  0.005941        1.000000  77.455606  -5.312  \n",
       "17  0.017424  0.010971  0.011817  0.007332        0.833333  82.151483  -7.886  \n",
       "4   0.012408  0.009386  0.009661  0.006200        0.875000  79.570682  -7.259  \n",
       "12  0.016440  0.015736  0.007567  0.008254        0.875000  79.079406  -5.796  \n",
       "21  0.011560  0.010303  0.007917  0.004845        0.875000  84.320646  -6.658  \n",
       "8   0.015467  0.009770  0.008872  0.007778        0.875000  66.616922  -9.420  \n",
       "13  0.011986  0.010239  0.009219  0.004347        0.833333  79.550518  -6.456  \n",
       "\n",
       "[20 rows x 402 columns]"
      ]
     },
     "execution_count": 77,
     "metadata": {},
     "output_type": "execute_result"
    }
   ],
   "source": [
    "train"
   ]
  },
  {
   "cell_type": "code",
   "execution_count": 78,
   "metadata": {},
   "outputs": [],
   "source": [
    "ic50_train = train['IC50']\n",
    "ic50_test = test['IC50']"
   ]
  },
  {
   "cell_type": "code",
   "execution_count": 79,
   "metadata": {},
   "outputs": [
    {
     "data": {
      "text/plain": [
       "26    -4.824\n",
       "9     -9.268\n",
       "7     -8.194\n",
       "20    -6.469\n",
       "24    -6.854\n",
       "10    -8.721\n",
       "23    -5.509\n",
       "15    -6.509\n",
       "6     -9.284\n",
       "14    -7.066\n",
       "1    -10.292\n",
       "19    -5.699\n",
       "3    -11.456\n",
       "16    -5.312\n",
       "17    -7.886\n",
       "4     -7.259\n",
       "12    -5.796\n",
       "21    -6.658\n",
       "8     -9.420\n",
       "13    -6.456\n",
       "Name: IC50, dtype: float64"
      ]
     },
     "execution_count": 79,
     "metadata": {},
     "output_type": "execute_result"
    }
   ],
   "source": [
    "ic50_train"
   ]
  },
  {
   "cell_type": "code",
   "execution_count": 80,
   "metadata": {},
   "outputs": [
    {
     "data": {
      "text/plain": [
       "18   -7.886\n",
       "5    -8.337\n",
       "25   -5.174\n",
       "22   -6.886\n",
       "2    -7.284\n",
       "0    -4.824\n",
       "11   -7.854\n",
       "Name: IC50, dtype: float64"
      ]
     },
     "execution_count": 80,
     "metadata": {},
     "output_type": "execute_result"
    }
   ],
   "source": [
    "ic50_test"
   ]
  },
  {
   "cell_type": "code",
   "execution_count": 81,
   "metadata": {},
   "outputs": [],
   "source": [
    "train.drop(['Ligand','IC50'], axis=1, inplace=True)\n",
    "test.drop(['Ligand','IC50'], axis=1, inplace=True)"
   ]
  },
  {
   "cell_type": "code",
   "execution_count": 82,
   "metadata": {},
   "outputs": [
    {
     "data": {
      "text/html": [
       "<div>\n",
       "<style scoped>\n",
       "    .dataframe tbody tr th:only-of-type {\n",
       "        vertical-align: middle;\n",
       "    }\n",
       "\n",
       "    .dataframe tbody tr th {\n",
       "        vertical-align: top;\n",
       "    }\n",
       "\n",
       "    .dataframe thead th {\n",
       "        text-align: right;\n",
       "    }\n",
       "</style>\n",
       "<table border=\"1\" class=\"dataframe\">\n",
       "  <thead>\n",
       "    <tr style=\"text-align: right;\">\n",
       "      <th></th>\n",
       "      <th>ABC</th>\n",
       "      <th>nAcid</th>\n",
       "      <th>nBase</th>\n",
       "      <th>SpMax_A</th>\n",
       "      <th>SpMAD_A</th>\n",
       "      <th>VE1_A</th>\n",
       "      <th>VR1_A</th>\n",
       "      <th>nAromAtom</th>\n",
       "      <th>nSpiro</th>\n",
       "      <th>nBridgehead</th>\n",
       "      <th>...</th>\n",
       "      <th>JGI2</th>\n",
       "      <th>JGI4</th>\n",
       "      <th>JGI5</th>\n",
       "      <th>JGI6</th>\n",
       "      <th>JGI7</th>\n",
       "      <th>JGI8</th>\n",
       "      <th>JGI9</th>\n",
       "      <th>JGI10</th>\n",
       "      <th>TopoShapeIndex</th>\n",
       "      <th>TSRW10</th>\n",
       "    </tr>\n",
       "  </thead>\n",
       "  <tbody>\n",
       "    <tr>\n",
       "      <th>26</th>\n",
       "      <td>16.401355</td>\n",
       "      <td>0</td>\n",
       "      <td>0</td>\n",
       "      <td>2.351515</td>\n",
       "      <td>1.311378</td>\n",
       "      <td>3.989248</td>\n",
       "      <td>179.986399</td>\n",
       "      <td>12</td>\n",
       "      <td>0</td>\n",
       "      <td>0</td>\n",
       "      <td>...</td>\n",
       "      <td>0.065476</td>\n",
       "      <td>0.040362</td>\n",
       "      <td>0.023865</td>\n",
       "      <td>0.009515</td>\n",
       "      <td>0.014640</td>\n",
       "      <td>0.009574</td>\n",
       "      <td>0.007217</td>\n",
       "      <td>0.007414</td>\n",
       "      <td>0.857143</td>\n",
       "      <td>72.950827</td>\n",
       "    </tr>\n",
       "    <tr>\n",
       "      <th>9</th>\n",
       "      <td>21.408122</td>\n",
       "      <td>0</td>\n",
       "      <td>0</td>\n",
       "      <td>2.415928</td>\n",
       "      <td>1.272444</td>\n",
       "      <td>4.819938</td>\n",
       "      <td>183.316566</td>\n",
       "      <td>12</td>\n",
       "      <td>0</td>\n",
       "      <td>0</td>\n",
       "      <td>...</td>\n",
       "      <td>0.086895</td>\n",
       "      <td>0.035038</td>\n",
       "      <td>0.028826</td>\n",
       "      <td>0.017143</td>\n",
       "      <td>0.015625</td>\n",
       "      <td>0.010097</td>\n",
       "      <td>0.009063</td>\n",
       "      <td>0.008072</td>\n",
       "      <td>1.000000</td>\n",
       "      <td>81.665307</td>\n",
       "    </tr>\n",
       "    <tr>\n",
       "      <th>7</th>\n",
       "      <td>20.046279</td>\n",
       "      <td>0</td>\n",
       "      <td>0</td>\n",
       "      <td>2.366458</td>\n",
       "      <td>1.287238</td>\n",
       "      <td>4.561329</td>\n",
       "      <td>210.869853</td>\n",
       "      <td>17</td>\n",
       "      <td>0</td>\n",
       "      <td>0</td>\n",
       "      <td>...</td>\n",
       "      <td>0.064327</td>\n",
       "      <td>0.024377</td>\n",
       "      <td>0.028020</td>\n",
       "      <td>0.018295</td>\n",
       "      <td>0.011736</td>\n",
       "      <td>0.009113</td>\n",
       "      <td>0.008393</td>\n",
       "      <td>0.009068</td>\n",
       "      <td>1.000000</td>\n",
       "      <td>74.088365</td>\n",
       "    </tr>\n",
       "    <tr>\n",
       "      <th>20</th>\n",
       "      <td>25.622253</td>\n",
       "      <td>0</td>\n",
       "      <td>0</td>\n",
       "      <td>2.474584</td>\n",
       "      <td>1.306494</td>\n",
       "      <td>4.328259</td>\n",
       "      <td>561.790476</td>\n",
       "      <td>18</td>\n",
       "      <td>0</td>\n",
       "      <td>0</td>\n",
       "      <td>...</td>\n",
       "      <td>0.052288</td>\n",
       "      <td>0.026194</td>\n",
       "      <td>0.027943</td>\n",
       "      <td>0.014496</td>\n",
       "      <td>0.013086</td>\n",
       "      <td>0.009859</td>\n",
       "      <td>0.009540</td>\n",
       "      <td>0.005906</td>\n",
       "      <td>1.000000</td>\n",
       "      <td>82.166191</td>\n",
       "    </tr>\n",
       "    <tr>\n",
       "      <th>24</th>\n",
       "      <td>22.753386</td>\n",
       "      <td>1</td>\n",
       "      <td>0</td>\n",
       "      <td>2.475054</td>\n",
       "      <td>1.300798</td>\n",
       "      <td>4.367584</td>\n",
       "      <td>549.602686</td>\n",
       "      <td>15</td>\n",
       "      <td>0</td>\n",
       "      <td>0</td>\n",
       "      <td>...</td>\n",
       "      <td>0.074074</td>\n",
       "      <td>0.038463</td>\n",
       "      <td>0.026222</td>\n",
       "      <td>0.019152</td>\n",
       "      <td>0.014123</td>\n",
       "      <td>0.012124</td>\n",
       "      <td>0.009138</td>\n",
       "      <td>0.007070</td>\n",
       "      <td>0.875000</td>\n",
       "      <td>78.590066</td>\n",
       "    </tr>\n",
       "  </tbody>\n",
       "</table>\n",
       "<p>5 rows × 400 columns</p>\n",
       "</div>"
      ],
      "text/plain": [
       "          ABC  nAcid  nBase   SpMax_A   SpMAD_A     VE1_A       VR1_A  \\\n",
       "26  16.401355      0      0  2.351515  1.311378  3.989248  179.986399   \n",
       "9   21.408122      0      0  2.415928  1.272444  4.819938  183.316566   \n",
       "7   20.046279      0      0  2.366458  1.287238  4.561329  210.869853   \n",
       "20  25.622253      0      0  2.474584  1.306494  4.328259  561.790476   \n",
       "24  22.753386      1      0  2.475054  1.300798  4.367584  549.602686   \n",
       "\n",
       "    nAromAtom  nSpiro  nBridgehead  ...      JGI2      JGI4      JGI5  \\\n",
       "26         12       0            0  ...  0.065476  0.040362  0.023865   \n",
       "9          12       0            0  ...  0.086895  0.035038  0.028826   \n",
       "7          17       0            0  ...  0.064327  0.024377  0.028020   \n",
       "20         18       0            0  ...  0.052288  0.026194  0.027943   \n",
       "24         15       0            0  ...  0.074074  0.038463  0.026222   \n",
       "\n",
       "        JGI6      JGI7      JGI8      JGI9     JGI10  TopoShapeIndex  \\\n",
       "26  0.009515  0.014640  0.009574  0.007217  0.007414        0.857143   \n",
       "9   0.017143  0.015625  0.010097  0.009063  0.008072        1.000000   \n",
       "7   0.018295  0.011736  0.009113  0.008393  0.009068        1.000000   \n",
       "20  0.014496  0.013086  0.009859  0.009540  0.005906        1.000000   \n",
       "24  0.019152  0.014123  0.012124  0.009138  0.007070        0.875000   \n",
       "\n",
       "       TSRW10  \n",
       "26  72.950827  \n",
       "9   81.665307  \n",
       "7   74.088365  \n",
       "20  82.166191  \n",
       "24  78.590066  \n",
       "\n",
       "[5 rows x 400 columns]"
      ]
     },
     "execution_count": 82,
     "metadata": {},
     "output_type": "execute_result"
    }
   ],
   "source": [
    "train.head()"
   ]
  },
  {
   "cell_type": "code",
   "execution_count": 83,
   "metadata": {},
   "outputs": [
    {
     "data": {
      "text/html": [
       "<div>\n",
       "<style scoped>\n",
       "    .dataframe tbody tr th:only-of-type {\n",
       "        vertical-align: middle;\n",
       "    }\n",
       "\n",
       "    .dataframe tbody tr th {\n",
       "        vertical-align: top;\n",
       "    }\n",
       "\n",
       "    .dataframe thead th {\n",
       "        text-align: right;\n",
       "    }\n",
       "</style>\n",
       "<table border=\"1\" class=\"dataframe\">\n",
       "  <thead>\n",
       "    <tr style=\"text-align: right;\">\n",
       "      <th></th>\n",
       "      <th>ABC</th>\n",
       "      <th>nAcid</th>\n",
       "      <th>nBase</th>\n",
       "      <th>SpMax_A</th>\n",
       "      <th>SpMAD_A</th>\n",
       "      <th>VE1_A</th>\n",
       "      <th>VR1_A</th>\n",
       "      <th>nAromAtom</th>\n",
       "      <th>nSpiro</th>\n",
       "      <th>nBridgehead</th>\n",
       "      <th>...</th>\n",
       "      <th>JGI2</th>\n",
       "      <th>JGI4</th>\n",
       "      <th>JGI5</th>\n",
       "      <th>JGI6</th>\n",
       "      <th>JGI7</th>\n",
       "      <th>JGI8</th>\n",
       "      <th>JGI9</th>\n",
       "      <th>JGI10</th>\n",
       "      <th>TopoShapeIndex</th>\n",
       "      <th>TSRW10</th>\n",
       "    </tr>\n",
       "  </thead>\n",
       "  <tbody>\n",
       "    <tr>\n",
       "      <th>18</th>\n",
       "      <td>23.128092</td>\n",
       "      <td>0</td>\n",
       "      <td>0</td>\n",
       "      <td>2.485026</td>\n",
       "      <td>1.265543</td>\n",
       "      <td>4.589305</td>\n",
       "      <td>245.959491</td>\n",
       "      <td>12</td>\n",
       "      <td>0</td>\n",
       "      <td>0</td>\n",
       "      <td>...</td>\n",
       "      <td>0.080247</td>\n",
       "      <td>0.036926</td>\n",
       "      <td>0.024543</td>\n",
       "      <td>0.020116</td>\n",
       "      <td>0.014527</td>\n",
       "      <td>0.015052</td>\n",
       "      <td>0.009667</td>\n",
       "      <td>0.009047</td>\n",
       "      <td>1.000</td>\n",
       "      <td>84.463671</td>\n",
       "    </tr>\n",
       "    <tr>\n",
       "      <th>5</th>\n",
       "      <td>20.810405</td>\n",
       "      <td>0</td>\n",
       "      <td>0</td>\n",
       "      <td>2.411799</td>\n",
       "      <td>1.257524</td>\n",
       "      <td>4.763671</td>\n",
       "      <td>169.907127</td>\n",
       "      <td>12</td>\n",
       "      <td>0</td>\n",
       "      <td>0</td>\n",
       "      <td>...</td>\n",
       "      <td>0.089181</td>\n",
       "      <td>0.032724</td>\n",
       "      <td>0.030293</td>\n",
       "      <td>0.017606</td>\n",
       "      <td>0.016470</td>\n",
       "      <td>0.009910</td>\n",
       "      <td>0.009087</td>\n",
       "      <td>0.008048</td>\n",
       "      <td>1.000</td>\n",
       "      <td>80.526405</td>\n",
       "    </tr>\n",
       "    <tr>\n",
       "      <th>25</th>\n",
       "      <td>20.579394</td>\n",
       "      <td>0</td>\n",
       "      <td>2</td>\n",
       "      <td>2.567485</td>\n",
       "      <td>1.276277</td>\n",
       "      <td>4.206620</td>\n",
       "      <td>241.043676</td>\n",
       "      <td>10</td>\n",
       "      <td>0</td>\n",
       "      <td>0</td>\n",
       "      <td>...</td>\n",
       "      <td>0.103175</td>\n",
       "      <td>0.048462</td>\n",
       "      <td>0.034330</td>\n",
       "      <td>0.019147</td>\n",
       "      <td>0.014064</td>\n",
       "      <td>0.011379</td>\n",
       "      <td>0.011941</td>\n",
       "      <td>0.010209</td>\n",
       "      <td>1.000</td>\n",
       "      <td>77.712224</td>\n",
       "    </tr>\n",
       "    <tr>\n",
       "      <th>22</th>\n",
       "      <td>22.931725</td>\n",
       "      <td>0</td>\n",
       "      <td>0</td>\n",
       "      <td>2.433999</td>\n",
       "      <td>1.275335</td>\n",
       "      <td>4.873163</td>\n",
       "      <td>204.691400</td>\n",
       "      <td>17</td>\n",
       "      <td>0</td>\n",
       "      <td>0</td>\n",
       "      <td>...</td>\n",
       "      <td>0.078811</td>\n",
       "      <td>0.029697</td>\n",
       "      <td>0.029065</td>\n",
       "      <td>0.015626</td>\n",
       "      <td>0.016370</td>\n",
       "      <td>0.008494</td>\n",
       "      <td>0.010563</td>\n",
       "      <td>0.006171</td>\n",
       "      <td>1.000</td>\n",
       "      <td>84.032246</td>\n",
       "    </tr>\n",
       "    <tr>\n",
       "      <th>2</th>\n",
       "      <td>24.017769</td>\n",
       "      <td>0</td>\n",
       "      <td>1</td>\n",
       "      <td>2.489954</td>\n",
       "      <td>1.330078</td>\n",
       "      <td>4.496545</td>\n",
       "      <td>499.352788</td>\n",
       "      <td>21</td>\n",
       "      <td>0</td>\n",
       "      <td>0</td>\n",
       "      <td>...</td>\n",
       "      <td>0.064815</td>\n",
       "      <td>0.028804</td>\n",
       "      <td>0.016311</td>\n",
       "      <td>0.018386</td>\n",
       "      <td>0.012110</td>\n",
       "      <td>0.005810</td>\n",
       "      <td>0.006563</td>\n",
       "      <td>0.004835</td>\n",
       "      <td>0.875</td>\n",
       "      <td>79.976698</td>\n",
       "    </tr>\n",
       "  </tbody>\n",
       "</table>\n",
       "<p>5 rows × 400 columns</p>\n",
       "</div>"
      ],
      "text/plain": [
       "          ABC  nAcid  nBase   SpMax_A   SpMAD_A     VE1_A       VR1_A  \\\n",
       "18  23.128092      0      0  2.485026  1.265543  4.589305  245.959491   \n",
       "5   20.810405      0      0  2.411799  1.257524  4.763671  169.907127   \n",
       "25  20.579394      0      2  2.567485  1.276277  4.206620  241.043676   \n",
       "22  22.931725      0      0  2.433999  1.275335  4.873163  204.691400   \n",
       "2   24.017769      0      1  2.489954  1.330078  4.496545  499.352788   \n",
       "\n",
       "    nAromAtom  nSpiro  nBridgehead  ...      JGI2      JGI4      JGI5  \\\n",
       "18         12       0            0  ...  0.080247  0.036926  0.024543   \n",
       "5          12       0            0  ...  0.089181  0.032724  0.030293   \n",
       "25         10       0            0  ...  0.103175  0.048462  0.034330   \n",
       "22         17       0            0  ...  0.078811  0.029697  0.029065   \n",
       "2          21       0            0  ...  0.064815  0.028804  0.016311   \n",
       "\n",
       "        JGI6      JGI7      JGI8      JGI9     JGI10  TopoShapeIndex  \\\n",
       "18  0.020116  0.014527  0.015052  0.009667  0.009047           1.000   \n",
       "5   0.017606  0.016470  0.009910  0.009087  0.008048           1.000   \n",
       "25  0.019147  0.014064  0.011379  0.011941  0.010209           1.000   \n",
       "22  0.015626  0.016370  0.008494  0.010563  0.006171           1.000   \n",
       "2   0.018386  0.012110  0.005810  0.006563  0.004835           0.875   \n",
       "\n",
       "       TSRW10  \n",
       "18  84.463671  \n",
       "5   80.526405  \n",
       "25  77.712224  \n",
       "22  84.032246  \n",
       "2   79.976698  \n",
       "\n",
       "[5 rows x 400 columns]"
      ]
     },
     "execution_count": 83,
     "metadata": {},
     "output_type": "execute_result"
    }
   ],
   "source": [
    "test.head()"
   ]
  },
  {
   "cell_type": "markdown",
   "metadata": {},
   "source": [
    "#### Replace Na values\n",
    "\n",
    "Also to replace with mean or median"
   ]
  },
  {
   "cell_type": "code",
   "execution_count": 84,
   "metadata": {},
   "outputs": [],
   "source": [
    "train.fillna(value=0.0, inplace=True)\n",
    "test.fillna(value=0.0, inplace=True)"
   ]
  },
  {
   "cell_type": "markdown",
   "metadata": {},
   "source": [
    "#### Transform pIC50 values"
   ]
  },
  {
   "cell_type": "code",
   "execution_count": 85,
   "metadata": {},
   "outputs": [],
   "source": [
    "ic50_train_enc = [1 if ic50 > -7 else 0 for ic50 in ic50_train.values]\n",
    "ic50_test_enc = [1 if ic50 > -7 else 0 for ic50 in ic50_test.values]"
   ]
  },
  {
   "cell_type": "code",
   "execution_count": 86,
   "metadata": {},
   "outputs": [],
   "source": [
    "train.to_csv(\"train.csv\")\n",
    "ic50_train.to_csv(\"ic50_train.csv\")\n",
    "df_ic50_train_enc = pd.DataFrame(ic50_train_enc)\n",
    "df_ic50_train_enc.to_csv(\"ic50_train_enc.csv\")\n",
    "test.to_csv(\"test.csv\")\n",
    "ic50_test.to_csv(\"ic50_test.csv\")\n",
    "df_ic50_test_enc = pd.DataFrame(ic50_test_enc)\n",
    "df_ic50_test_enc.to_csv(\"ic50_test_enc.csv\")"
   ]
  },
  {
   "cell_type": "markdown",
   "metadata": {},
   "source": [
    "#### Scaling"
   ]
  },
  {
   "cell_type": "markdown",
   "metadata": {},
   "source": [
    "##### Standard"
   ]
  },
  {
   "cell_type": "code",
   "execution_count": 87,
   "metadata": {},
   "outputs": [],
   "source": [
    "scaler = StandardScaler()"
   ]
  },
  {
   "cell_type": "code",
   "execution_count": 88,
   "metadata": {},
   "outputs": [],
   "source": [
    "train_sc = scaler.fit_transform(train)\n",
    "test_sc = scaler.fit_transform(test)"
   ]
  },
  {
   "cell_type": "markdown",
   "metadata": {},
   "source": [
    "##### MinMax"
   ]
  },
  {
   "cell_type": "code",
   "execution_count": 89,
   "metadata": {},
   "outputs": [],
   "source": [
    "scaler = MinMaxScaler()"
   ]
  },
  {
   "cell_type": "code",
   "execution_count": 90,
   "metadata": {},
   "outputs": [],
   "source": [
    "train_mmsc = scaler.fit_transform(train)\n",
    "test_mmsc = scaler.fit_transform(test)"
   ]
  },
  {
   "cell_type": "markdown",
   "metadata": {},
   "source": [
    "##### MaxAbs"
   ]
  },
  {
   "cell_type": "code",
   "execution_count": 91,
   "metadata": {},
   "outputs": [],
   "source": [
    "scaler = MaxAbsScaler()"
   ]
  },
  {
   "cell_type": "code",
   "execution_count": 92,
   "metadata": {},
   "outputs": [],
   "source": [
    "train_masc = scaler.fit_transform(train)\n",
    "test_masc = scaler.fit_transform(test)"
   ]
  },
  {
   "cell_type": "markdown",
   "metadata": {},
   "source": [
    "##### Robust "
   ]
  },
  {
   "cell_type": "code",
   "execution_count": 93,
   "metadata": {},
   "outputs": [],
   "source": [
    "scaler = RobustScaler()"
   ]
  },
  {
   "cell_type": "code",
   "execution_count": 94,
   "metadata": {},
   "outputs": [],
   "source": [
    "train_rsc = scaler.fit_transform(train)\n",
    "test_rsc = scaler.fit_transform(test)"
   ]
  },
  {
   "cell_type": "markdown",
   "metadata": {},
   "source": [
    "##### Power Transformer - Yeo-Johnson"
   ]
  },
  {
   "cell_type": "code",
   "execution_count": 95,
   "metadata": {},
   "outputs": [],
   "source": [
    "scaler = PowerTransformer(method='yeo-johnson')"
   ]
  },
  {
   "cell_type": "code",
   "execution_count": 96,
   "metadata": {},
   "outputs": [],
   "source": [
    "train_yjsc = scaler.fit_transform(train)\n",
    "test_yjsc = scaler.fit_transform(test)"
   ]
  },
  {
   "cell_type": "markdown",
   "metadata": {},
   "source": [
    "##### Quantile transformer - Gaussian"
   ]
  },
  {
   "cell_type": "code",
   "execution_count": 97,
   "metadata": {},
   "outputs": [],
   "source": [
    "scaler = QuantileTransformer(output_distribution='normal')"
   ]
  },
  {
   "cell_type": "code",
   "execution_count": 98,
   "metadata": {},
   "outputs": [],
   "source": [
    "train_gsc = scaler.fit_transform(train)\n",
    "test_gsc = scaler.fit_transform(test)"
   ]
  },
  {
   "cell_type": "markdown",
   "metadata": {},
   "source": [
    "##### Quantile transformer - Uniform"
   ]
  },
  {
   "cell_type": "code",
   "execution_count": 99,
   "metadata": {},
   "outputs": [],
   "source": [
    "scaler = QuantileTransformer(output_distribution='uniform')"
   ]
  },
  {
   "cell_type": "code",
   "execution_count": 100,
   "metadata": {},
   "outputs": [],
   "source": [
    "train_usc = scaler.fit_transform(train)\n",
    "test_usc = scaler.fit_transform(test)"
   ]
  },
  {
   "cell_type": "markdown",
   "metadata": {},
   "source": [
    "##### Normalizer"
   ]
  },
  {
   "cell_type": "code",
   "execution_count": 101,
   "metadata": {},
   "outputs": [],
   "source": [
    "scaler = Normalizer()"
   ]
  },
  {
   "cell_type": "code",
   "execution_count": 102,
   "metadata": {},
   "outputs": [],
   "source": [
    "train_nsc = scaler.fit_transform(train)\n",
    "test_nsc = scaler.fit_transform(test)"
   ]
  },
  {
   "cell_type": "markdown",
   "metadata": {},
   "source": [
    "## Feature selection"
   ]
  },
  {
   "cell_type": "markdown",
   "metadata": {},
   "source": [
    "#### Shap values"
   ]
  },
  {
   "cell_type": "code",
   "execution_count": null,
   "metadata": {},
   "outputs": [],
   "source": [
    "model = RandomForestClassifier(random_state=101)\n",
    "model.fit(train, ic50_train_enc)"
   ]
  },
  {
   "cell_type": "code",
   "execution_count": null,
   "metadata": {},
   "outputs": [],
   "source": [
    "shap_values = shap.TreeExplainer(model).shap_values(train)\n",
    "shap.summary_plot(shap_values, train, plot_type=\"bar\")"
   ]
  },
  {
   "cell_type": "code",
   "execution_count": null,
   "metadata": {},
   "outputs": [],
   "source": [
    "shap.summary_plot(shap_values, train)"
   ]
  },
  {
   "cell_type": "code",
   "execution_count": null,
   "metadata": {},
   "outputs": [],
   "source": [
    "shap.initjs()"
   ]
  },
  {
   "cell_type": "code",
   "execution_count": null,
   "metadata": {},
   "outputs": [],
   "source": [
    "X_output = test.copy()\n",
    "X_output.loc[:,'predict'] = np.round(model.predict(X_output),2)\n",
    "\n",
    "# Randomly pick some observations\n",
    "random_picks = np.arange(1,7,2) # Every 50 rows\n",
    "S = X_output.iloc[random_picks]\n",
    "S"
   ]
  },
  {
   "cell_type": "code",
   "execution_count": null,
   "metadata": {},
   "outputs": [],
   "source": [
    "def shap_plot(j):\n",
    "    explainerModel = shap.TreeExplainer(model)\n",
    "    shap_values_Model = explainerModel.shap_values(S)\n",
    "    p = shap.force_plot(explainerModel.expected_value, shap_values_Model[j], S.iloc[[j]])\n",
    "    return(p)"
   ]
  },
  {
   "cell_type": "code",
   "execution_count": null,
   "metadata": {},
   "outputs": [],
   "source": [
    "shap_plot(0)"
   ]
  },
  {
   "cell_type": "code",
   "execution_count": null,
   "metadata": {},
   "outputs": [],
   "source": [
    "shap_plot(1)"
   ]
  },
  {
   "cell_type": "code",
   "execution_count": null,
   "metadata": {},
   "outputs": [],
   "source": [
    "shap_plot(2)"
   ]
  },
  {
   "cell_type": "markdown",
   "metadata": {},
   "source": [
    "#### Pearson correlation"
   ]
  },
  {
   "cell_type": "code",
   "execution_count": 103,
   "metadata": {},
   "outputs": [],
   "source": [
    "def cor_selector(X, y, num_feats):\n",
    "    cor_list = []\n",
    "    feature_name = X.columns.tolist()\n",
    "\n",
    "    for i in X.columns.tolist():\n",
    "        cor = np.corrcoef(X[i], y)[0, 1]\n",
    "        cor_list.append(cor)\n",
    "\n",
    "    cor_list = [0 if np.isnan(i) else i for i in cor_list]\n",
    "    cor_feature = X.iloc[:,np.argsort(np.abs(cor_list))[-num_feats:]].columns.tolist()\n",
    "    cor_support = [True if i in cor_feature else False for i in feature_name]\n",
    "    \n",
    "    return cor_support, cor_feature "
   ]
  },
  {
   "cell_type": "code",
   "execution_count": 104,
   "metadata": {},
   "outputs": [
    {
     "name": "stdout",
     "output_type": "stream",
     "text": [
      "400 selected features\n"
     ]
    }
   ],
   "source": [
    "cor_support, cor_feature = cor_selector(train, ic50_train_enc, len(train.columns))\n",
    "print(str(len(cor_feature)), 'selected features')"
   ]
  },
  {
   "cell_type": "markdown",
   "metadata": {},
   "source": [
    "#### LASSO"
   ]
  },
  {
   "cell_type": "code",
   "execution_count": 105,
   "metadata": {},
   "outputs": [
    {
     "name": "stdout",
     "output_type": "stream",
     "text": [
      "136 selected features\n"
     ]
    }
   ],
   "source": [
    "embeded_lr_selector = SelectFromModel(LogisticRegression(penalty=\"l2\"), max_features=len(train.columns))\n",
    "embeded_lr_selector.fit(train_mmsc, ic50_train_enc)\n",
    "\n",
    "embeded_lr_support = embeded_lr_selector.get_support()\n",
    "embeded_lr_feature = train.loc[:,embeded_lr_support].columns.tolist()\n",
    "print(str(len(embeded_lr_feature)), 'selected features')"
   ]
  },
  {
   "cell_type": "code",
   "execution_count": 58,
   "metadata": {},
   "outputs": [],
   "source": [
    "train.drop(train.columns[np.where(embeded_lr_support == False)[0]], axis=1, inplace=True)\n",
    "test.drop(test.columns[np.where(embeded_lr_support == False)[0]], axis=1, inplace=True)"
   ]
  },
  {
   "cell_type": "markdown",
   "metadata": {},
   "source": [
    "#### Chi-squared"
   ]
  },
  {
   "cell_type": "code",
   "execution_count": 106,
   "metadata": {},
   "outputs": [
    {
     "data": {
      "text/plain": [
       "SelectKBest(k=400, score_func=<function chi2 at 0x7fa6f7c443b0>)"
      ]
     },
     "execution_count": 106,
     "metadata": {},
     "output_type": "execute_result"
    }
   ],
   "source": [
    "chi_selector = SelectKBest(chi2, k=400)\n",
    "chi_selector.fit(train_mmsc, ic50_train_enc)"
   ]
  },
  {
   "cell_type": "code",
   "execution_count": 107,
   "metadata": {},
   "outputs": [],
   "source": [
    "chi_support = chi_selector.get_support()\n",
    "chi_feature = train.loc[:,chi_support].columns.tolist()"
   ]
  },
  {
   "cell_type": "code",
   "execution_count": 108,
   "metadata": {},
   "outputs": [
    {
     "name": "stdout",
     "output_type": "stream",
     "text": [
      "400 selected features\n"
     ]
    }
   ],
   "source": [
    "print(str(len(chi_feature)), 'selected features')"
   ]
  },
  {
   "cell_type": "markdown",
   "metadata": {},
   "source": [
    "#### Light Gradient Boosting Classifier"
   ]
  },
  {
   "cell_type": "code",
   "execution_count": 109,
   "metadata": {},
   "outputs": [],
   "source": [
    "lgbc=LGBMClassifier(n_estimators=500, learning_rate=0.05, num_leaves=32, colsample_bytree=0.2,\n",
    "            reg_alpha=3, reg_lambda=1, min_split_gain=0.01, min_child_weight=40)"
   ]
  },
  {
   "cell_type": "code",
   "execution_count": 110,
   "metadata": {},
   "outputs": [
    {
     "data": {
      "text/plain": [
       "SelectFromModel(estimator=LGBMClassifier(boosting_type='gbdt',\n",
       "                                         class_weight=None,\n",
       "                                         colsample_bytree=0.2,\n",
       "                                         importance_type='split',\n",
       "                                         learning_rate=0.05, max_depth=-1,\n",
       "                                         min_child_samples=20,\n",
       "                                         min_child_weight=40,\n",
       "                                         min_split_gain=0.01, n_estimators=500,\n",
       "                                         n_jobs=-1, num_leaves=32,\n",
       "                                         objective=None, random_state=None,\n",
       "                                         reg_alpha=3, reg_lambda=1, silent=True,\n",
       "                                         subsample=1.0,\n",
       "                                         subsample_for_bin=200000,\n",
       "                                         subsample_freq=0),\n",
       "                max_features=400, norm_order=1, prefit=False, threshold=None)"
      ]
     },
     "execution_count": 110,
     "metadata": {},
     "output_type": "execute_result"
    }
   ],
   "source": [
    "embeded_lgb_selector = SelectFromModel(lgbc, max_features=len(train.columns))\n",
    "embeded_lgb_selector.fit(train_mmsc, ic50_train_enc)"
   ]
  },
  {
   "cell_type": "code",
   "execution_count": 111,
   "metadata": {},
   "outputs": [],
   "source": [
    "embeded_lgb_support = embeded_lgb_selector.get_support()\n",
    "embeded_lgb_feature = train.loc[:,embeded_lgb_support].columns.tolist()"
   ]
  },
  {
   "cell_type": "code",
   "execution_count": 112,
   "metadata": {},
   "outputs": [
    {
     "name": "stdout",
     "output_type": "stream",
     "text": [
      "400 selected features\n"
     ]
    }
   ],
   "source": [
    "print(str(len(embeded_lgb_feature)), 'selected features')"
   ]
  },
  {
   "cell_type": "markdown",
   "metadata": {},
   "source": [
    "### Recursive feature elimination (RFE)"
   ]
  },
  {
   "cell_type": "markdown",
   "metadata": {},
   "source": [
    "#### By Support Vector Classifier (SVC)\n",
    "\n",
    "- Error report:\n",
    "\n",
    "        * n_splits=2 cannot be greater than the number of members in each class.\n",
    "        * The classifier does not expose \"coef_\" or \"feature_importances_\" attributes\n",
    "        \n",
    "Dependence on train/test split"
   ]
  },
  {
   "cell_type": "code",
   "execution_count": 113,
   "metadata": {},
   "outputs": [
    {
     "name": "stdout",
     "output_type": "stream",
     "text": [
      "Optimal number of features: 200 - \n",
      "Optimal number of features: 200 - Standard\n",
      "Optimal number of features: 200 - MinMax\n",
      "Optimal number of features: 200 - MaxAbs\n",
      "Optimal number of features: 200 - Robust\n",
      "Optimal number of features: 200 - Yeo-Johnson\n",
      "Optimal number of features: 200 - Gaussian\n",
      "Optimal number of features: 200 - uniform\n",
      "Optimal number of features: 200 - normalized\n"
     ]
    }
   ],
   "source": [
    "svc = LinearSVC()\n",
    "rfe = RFE(svc)\n",
    "rfe.fit(train, ic50_train_enc)\n",
    "print('Optimal number of features: {} - '.format(rfe.n_features_))\n",
    "rfe.fit(train_sc, ic50_train_enc)\n",
    "print('Optimal number of features: {} - Standard'.format(rfe.n_features_))\n",
    "rfe.fit(train_mmsc, ic50_train_enc)\n",
    "print('Optimal number of features: {} - MinMax'.format(rfe.n_features_))\n",
    "rfe.fit(train_masc, ic50_train_enc)\n",
    "print('Optimal number of features: {} - MaxAbs'.format(rfe.n_features_))\n",
    "rfe.fit(train_rsc, ic50_train_enc)\n",
    "print('Optimal number of features: {} - Robust'.format(rfe.n_features_))\n",
    "rfe.fit(train_yjsc, ic50_train_enc)\n",
    "print('Optimal number of features: {} - Yeo-Johnson'.format(rfe.n_features_))\n",
    "rfe.fit(train_gsc, ic50_train_enc)\n",
    "print('Optimal number of features: {} - Gaussian'.format(rfe.n_features_))\n",
    "rfe.fit(train_usc, ic50_train_enc)\n",
    "print('Optimal number of features: {} - uniform'.format(rfe.n_features_))\n",
    "rfe.fit(train_nsc, ic50_train_enc)\n",
    "print('Optimal number of features: {} - normalized'.format(rfe.n_features_))\n"
   ]
  },
  {
   "cell_type": "code",
   "execution_count": null,
   "metadata": {},
   "outputs": [],
   "source": [
    "#print(np.where(rfe.support_ == False)[0])\n",
    "\n",
    "train.drop(train.columns[np.where(rfe.support_ == False)[0]], axis=1, inplace=True)\n",
    "test.drop(test.columns[np.where(rfe.support_ == False)[0]], axis=1, inplace=True)"
   ]
  },
  {
   "cell_type": "markdown",
   "metadata": {},
   "source": [
    "##### Standard"
   ]
  },
  {
   "cell_type": "code",
   "execution_count": null,
   "metadata": {},
   "outputs": [],
   "source": [
    "scaler = StandardScaler()"
   ]
  },
  {
   "cell_type": "code",
   "execution_count": null,
   "metadata": {},
   "outputs": [],
   "source": [
    "train_sc = scaler.fit_transform(train)\n",
    "test_sc = scaler.fit_transform(test)"
   ]
  },
  {
   "cell_type": "markdown",
   "metadata": {},
   "source": [
    "##### MinMax"
   ]
  },
  {
   "cell_type": "code",
   "execution_count": null,
   "metadata": {},
   "outputs": [],
   "source": [
    "scaler = MinMaxScaler()"
   ]
  },
  {
   "cell_type": "code",
   "execution_count": null,
   "metadata": {},
   "outputs": [],
   "source": [
    "train_mmsc = scaler.fit_transform(train)\n",
    "test_mmsc = scaler.fit_transform(test)"
   ]
  },
  {
   "cell_type": "markdown",
   "metadata": {},
   "source": [
    "##### MaxAbs"
   ]
  },
  {
   "cell_type": "code",
   "execution_count": null,
   "metadata": {},
   "outputs": [],
   "source": [
    "scaler = MaxAbsScaler()"
   ]
  },
  {
   "cell_type": "code",
   "execution_count": null,
   "metadata": {},
   "outputs": [],
   "source": [
    "train_masc = scaler.fit_transform(train)\n",
    "test_masc = scaler.fit_transform(test)"
   ]
  },
  {
   "cell_type": "markdown",
   "metadata": {},
   "source": [
    "##### Robust "
   ]
  },
  {
   "cell_type": "code",
   "execution_count": null,
   "metadata": {},
   "outputs": [],
   "source": [
    "scaler = RobustScaler()"
   ]
  },
  {
   "cell_type": "code",
   "execution_count": null,
   "metadata": {},
   "outputs": [],
   "source": [
    "train_rsc = scaler.fit_transform(train)\n",
    "test_rsc = scaler.fit_transform(test)"
   ]
  },
  {
   "cell_type": "markdown",
   "metadata": {},
   "source": [
    "##### Power Transformer - Yeo-Johnson"
   ]
  },
  {
   "cell_type": "code",
   "execution_count": null,
   "metadata": {},
   "outputs": [],
   "source": [
    "scaler = PowerTransformer(method='yeo-johnson')"
   ]
  },
  {
   "cell_type": "code",
   "execution_count": null,
   "metadata": {},
   "outputs": [],
   "source": [
    "train_yjsc = scaler.fit_transform(train)\n",
    "test_yjsc = scaler.fit_transform(test)"
   ]
  },
  {
   "cell_type": "markdown",
   "metadata": {},
   "source": [
    "##### Quantile transformer - Gaussian"
   ]
  },
  {
   "cell_type": "code",
   "execution_count": null,
   "metadata": {},
   "outputs": [],
   "source": [
    "scaler = QuantileTransformer(output_distribution='normal')"
   ]
  },
  {
   "cell_type": "code",
   "execution_count": null,
   "metadata": {},
   "outputs": [],
   "source": [
    "train_gsc = scaler.fit_transform(train)\n",
    "test_gsc = scaler.fit_transform(test)"
   ]
  },
  {
   "cell_type": "markdown",
   "metadata": {},
   "source": [
    "##### Quantile transformer - Uniform"
   ]
  },
  {
   "cell_type": "code",
   "execution_count": null,
   "metadata": {},
   "outputs": [],
   "source": [
    "scaler = QuantileTransformer(output_distribution='uniform')"
   ]
  },
  {
   "cell_type": "code",
   "execution_count": null,
   "metadata": {},
   "outputs": [],
   "source": [
    "train_usc = scaler.fit_transform(train)\n",
    "test_usc = scaler.fit_transform(test)"
   ]
  },
  {
   "cell_type": "markdown",
   "metadata": {},
   "source": [
    "##### Normalizer"
   ]
  },
  {
   "cell_type": "code",
   "execution_count": null,
   "metadata": {},
   "outputs": [],
   "source": [
    "scaler = Normalizer()"
   ]
  },
  {
   "cell_type": "code",
   "execution_count": null,
   "metadata": {},
   "outputs": [],
   "source": [
    "train_nsc = scaler.fit_transform(train)\n",
    "test_nsc = scaler.fit_transform(test)"
   ]
  },
  {
   "cell_type": "markdown",
   "metadata": {},
   "source": [
    "#### By Ensemble, Random Forest (RF) and Extremely Randomized Trees (Extra Trees Classifier)"
   ]
  },
  {
   "cell_type": "markdown",
   "metadata": {},
   "source": [
    "##### Ensemble"
   ]
  },
  {
   "cell_type": "code",
   "execution_count": 114,
   "metadata": {},
   "outputs": [],
   "source": [
    "stump = DecisionTreeClassifier(max_depth=1)\n",
    "ensemble = BaggingClassifier(base_estimator = stump, n_estimators = 1000, bootstrap = False)"
   ]
  },
  {
   "cell_type": "code",
   "execution_count": 115,
   "metadata": {},
   "outputs": [
    {
     "data": {
      "text/plain": [
       "BaggingClassifier(base_estimator=DecisionTreeClassifier(ccp_alpha=0.0,\n",
       "                                                        class_weight=None,\n",
       "                                                        criterion='gini',\n",
       "                                                        max_depth=1,\n",
       "                                                        max_features=None,\n",
       "                                                        max_leaf_nodes=None,\n",
       "                                                        min_impurity_decrease=0.0,\n",
       "                                                        min_impurity_split=None,\n",
       "                                                        min_samples_leaf=1,\n",
       "                                                        min_samples_split=2,\n",
       "                                                        min_weight_fraction_leaf=0.0,\n",
       "                                                        presort='deprecated',\n",
       "                                                        random_state=None,\n",
       "                                                        splitter='best'),\n",
       "                  bootstrap=False, bootstrap_features=False, max_features=1.0,\n",
       "                  max_samples=1.0, n_estimators=1000, n_jobs=None,\n",
       "                  oob_score=False, random_state=None, verbose=0,\n",
       "                  warm_start=False)"
      ]
     },
     "execution_count": 115,
     "metadata": {},
     "output_type": "execute_result"
    }
   ],
   "source": [
    "stump.fit(train, np.ravel(ic50_train_enc))\n",
    "ensemble.fit(train, np.ravel(ic50_train_enc))"
   ]
  },
  {
   "cell_type": "code",
   "execution_count": 116,
   "metadata": {},
   "outputs": [],
   "source": [
    "y_pred_stump = stump.predict(test)\n",
    "y_pred_ensemble = ensemble.predict(test)"
   ]
  },
  {
   "cell_type": "code",
   "execution_count": 117,
   "metadata": {},
   "outputs": [],
   "source": [
    "stump_accuracy = metrics.accuracy_score(ic50_test_enc, y_pred_stump)\n",
    "ensemble_accuracy = metrics.accuracy_score(ic50_test_enc, y_pred_ensemble)"
   ]
  },
  {
   "cell_type": "code",
   "execution_count": 118,
   "metadata": {},
   "outputs": [
    {
     "name": "stdout",
     "output_type": "stream",
     "text": [
      "The accuracy of the stump is 57.1 %\n",
      "The accuracy of the ensemble is 57.1 %\n"
     ]
    }
   ],
   "source": [
    "print(f\"The accuracy of the stump is {stump_accuracy*100:.1f} %\")\n",
    "print(f\"The accuracy of the ensemble is {ensemble_accuracy*100:.1f} %\")"
   ]
  },
  {
   "cell_type": "markdown",
   "metadata": {},
   "source": [
    "##### Random Forest"
   ]
  },
  {
   "cell_type": "code",
   "execution_count": 119,
   "metadata": {},
   "outputs": [],
   "source": [
    "tree = DecisionTreeClassifier(max_depth = 1, splitter = \"best\", max_features = \"sqrt\")\n",
    "\n",
    "random_forest = BaggingClassifier(base_estimator = tree, n_estimators = 1000,bootstrap = True)"
   ]
  },
  {
   "cell_type": "code",
   "execution_count": 120,
   "metadata": {},
   "outputs": [
    {
     "data": {
      "text/plain": [
       "BaggingClassifier(base_estimator=DecisionTreeClassifier(ccp_alpha=0.0,\n",
       "                                                        class_weight=None,\n",
       "                                                        criterion='gini',\n",
       "                                                        max_depth=1,\n",
       "                                                        max_features='sqrt',\n",
       "                                                        max_leaf_nodes=None,\n",
       "                                                        min_impurity_decrease=0.0,\n",
       "                                                        min_impurity_split=None,\n",
       "                                                        min_samples_leaf=1,\n",
       "                                                        min_samples_split=2,\n",
       "                                                        min_weight_fraction_leaf=0.0,\n",
       "                                                        presort='deprecated',\n",
       "                                                        random_state=None,\n",
       "                                                        splitter='best'),\n",
       "                  bootstrap=True, bootstrap_features=False, max_features=1.0,\n",
       "                  max_samples=1.0, n_estimators=1000, n_jobs=None,\n",
       "                  oob_score=False, random_state=None, verbose=0,\n",
       "                  warm_start=False)"
      ]
     },
     "execution_count": 120,
     "metadata": {},
     "output_type": "execute_result"
    }
   ],
   "source": [
    "tree.fit(train, np.ravel(ic50_train_enc))\n",
    "random_forest.fit(train, np.ravel(ic50_train_enc))"
   ]
  },
  {
   "cell_type": "code",
   "execution_count": 121,
   "metadata": {},
   "outputs": [],
   "source": [
    "y_pred_tree = tree.predict(test)\n",
    "y_pred_random_forest = random_forest.predict(test)"
   ]
  },
  {
   "cell_type": "code",
   "execution_count": 122,
   "metadata": {},
   "outputs": [],
   "source": [
    "tree_accuracy = metrics.accuracy_score(ic50_test_enc, y_pred_tree)\n",
    "random_forest_accuracy = metrics.accuracy_score(ic50_test_enc, y_pred_random_forest)"
   ]
  },
  {
   "cell_type": "code",
   "execution_count": 123,
   "metadata": {},
   "outputs": [
    {
     "name": "stdout",
     "output_type": "stream",
     "text": [
      "The accuracy of the tree is 71.4 %\n",
      "The accuracy of the Random Forest is 57.1 %\n"
     ]
    }
   ],
   "source": [
    "print(f\"The accuracy of the tree is {tree_accuracy*100:.1f} %\")\n",
    "print(f\"The accuracy of the Random Forest is {random_forest_accuracy*100:.1f} %\")"
   ]
  },
  {
   "cell_type": "markdown",
   "metadata": {},
   "source": [
    "##### Extra Trees Classifier"
   ]
  },
  {
   "cell_type": "code",
   "execution_count": 124,
   "metadata": {},
   "outputs": [],
   "source": [
    "rm_tree = DecisionTreeClassifier(max_depth = 1, splitter = \"random\", max_features = \"sqrt\")\n",
    "\n",
    "extra_trees = BaggingClassifier(base_estimator = stump, n_estimators = 1000, bootstrap = False)"
   ]
  },
  {
   "cell_type": "code",
   "execution_count": 125,
   "metadata": {},
   "outputs": [
    {
     "data": {
      "text/plain": [
       "BaggingClassifier(base_estimator=DecisionTreeClassifier(ccp_alpha=0.0,\n",
       "                                                        class_weight=None,\n",
       "                                                        criterion='gini',\n",
       "                                                        max_depth=1,\n",
       "                                                        max_features=None,\n",
       "                                                        max_leaf_nodes=None,\n",
       "                                                        min_impurity_decrease=0.0,\n",
       "                                                        min_impurity_split=None,\n",
       "                                                        min_samples_leaf=1,\n",
       "                                                        min_samples_split=2,\n",
       "                                                        min_weight_fraction_leaf=0.0,\n",
       "                                                        presort='deprecated',\n",
       "                                                        random_state=None,\n",
       "                                                        splitter='best'),\n",
       "                  bootstrap=False, bootstrap_features=False, max_features=1.0,\n",
       "                  max_samples=1.0, n_estimators=1000, n_jobs=None,\n",
       "                  oob_score=False, random_state=None, verbose=0,\n",
       "                  warm_start=False)"
      ]
     },
     "execution_count": 125,
     "metadata": {},
     "output_type": "execute_result"
    }
   ],
   "source": [
    "rm_tree.fit(train, np.ravel(ic50_train_enc))\n",
    "extra_trees.fit(train, np.ravel(ic50_train_enc))"
   ]
  },
  {
   "cell_type": "code",
   "execution_count": 126,
   "metadata": {},
   "outputs": [],
   "source": [
    "y_pred_rm_tree = rm_tree.predict(test)\n",
    "y_pred_extra_trees = extra_trees.predict(test)"
   ]
  },
  {
   "cell_type": "code",
   "execution_count": 127,
   "metadata": {},
   "outputs": [],
   "source": [
    "rm_tree_accuracy = metrics.accuracy_score(ic50_test_enc, y_pred_rm_tree)\n",
    "extra_trees_accuracy = metrics.accuracy_score(ic50_test_enc, y_pred_extra_trees)"
   ]
  },
  {
   "cell_type": "code",
   "execution_count": 128,
   "metadata": {},
   "outputs": [
    {
     "name": "stdout",
     "output_type": "stream",
     "text": [
      "The accuracy of the tree is 71.4 %\n",
      "The accuracy of the Extra Trees is 57.1 %\n"
     ]
    }
   ],
   "source": [
    "print(f\"The accuracy of the tree is {rm_tree_accuracy*100:.1f} %\")\n",
    "print(f\"The accuracy of the Extra Trees is {extra_trees_accuracy*100:.1f} %\")"
   ]
  },
  {
   "cell_type": "markdown",
   "metadata": {},
   "source": [
    "##### Proceeding to RFE-CV with Random Forest Classifier\n",
    "\n",
    "After several runs ..."
   ]
  },
  {
   "cell_type": "code",
   "execution_count": 129,
   "metadata": {},
   "outputs": [],
   "source": [
    "rfc = RandomForestClassifier(random_state=101)"
   ]
  },
  {
   "cell_type": "code",
   "execution_count": 130,
   "metadata": {},
   "outputs": [],
   "source": [
    "rfecv = RFECV(estimator=rfc, step=1, cv=StratifiedKFold(2), scoring='accuracy')"
   ]
  },
  {
   "cell_type": "code",
   "execution_count": 131,
   "metadata": {},
   "outputs": [
    {
     "data": {
      "text/plain": [
       "RFECV(cv=StratifiedKFold(n_splits=2, random_state=None, shuffle=False),\n",
       "      estimator=RandomForestClassifier(bootstrap=True, ccp_alpha=0.0,\n",
       "                                       class_weight=None, criterion='gini',\n",
       "                                       max_depth=None, max_features='auto',\n",
       "                                       max_leaf_nodes=None, max_samples=None,\n",
       "                                       min_impurity_decrease=0.0,\n",
       "                                       min_impurity_split=None,\n",
       "                                       min_samples_leaf=1, min_samples_split=2,\n",
       "                                       min_weight_fraction_leaf=0.0,\n",
       "                                       n_estimators=100, n_jobs=None,\n",
       "                                       oob_score=False, random_state=101,\n",
       "                                       verbose=0, warm_start=False),\n",
       "      min_features_to_select=1, n_jobs=None, scoring='accuracy', step=1,\n",
       "      verbose=0)"
      ]
     },
     "execution_count": 131,
     "metadata": {},
     "output_type": "execute_result"
    }
   ],
   "source": [
    "rfecv.fit(train, ic50_train_enc)"
   ]
  },
  {
   "cell_type": "code",
   "execution_count": 132,
   "metadata": {},
   "outputs": [
    {
     "name": "stdout",
     "output_type": "stream",
     "text": [
      "Optimal number of features: 343\n"
     ]
    }
   ],
   "source": [
    "print('Optimal number of features: {}'.format(rfecv.n_features_))"
   ]
  },
  {
   "cell_type": "code",
   "execution_count": 133,
   "metadata": {
    "scrolled": false
   },
   "outputs": [
    {
     "data": {
      "image/png": "[encoded data removed]",
      "text/plain": [
       "<Figure size 1152x648 with 1 Axes>"
      ]
     },
     "metadata": {
      "needs_background": "light"
     },
     "output_type": "display_data"
    }
   ],
   "source": [
    "plt.figure(figsize=(16, 9))\n",
    "plt.title('Recursive Feature Elimination with Cross-Validation', fontsize=18, fontweight='bold', pad=20)\n",
    "plt.xlabel('Number of features selected', fontsize=14, labelpad=20)\n",
    "plt.ylabel('% Correct Classification', fontsize=14, labelpad=20)\n",
    "plt.plot(range(1, len(rfecv.grid_scores_) + 1), rfecv.grid_scores_, color='#303F9F', linewidth=3)\n",
    "\n",
    "plt.show()"
   ]
  },
  {
   "cell_type": "markdown",
   "metadata": {},
   "source": [
    "###### Dropping least important descriptors"
   ]
  },
  {
   "cell_type": "code",
   "execution_count": 134,
   "metadata": {},
   "outputs": [
    {
     "name": "stdout",
     "output_type": "stream",
     "text": [
      "[  0   1   2   3   4 176 177 178 179 180 181 182 183 184 185 186 187 188\n",
      " 189 190 191 192 193 194 195 196 197 198 199 200 201 202 203 204 205 206\n",
      " 207 208 209 210 211 212 213 214 215 216 217 218 219 220 221 222 223 224\n",
      " 225 226 399]\n"
     ]
    }
   ],
   "source": [
    "print(np.where(rfecv.support_ == False)[0])\n",
    "\n",
    "train.drop(train.columns[np.where(rfecv.support_ == False)[0]], axis=1, inplace=True)\n",
    "test.drop(test.columns[np.where(rfecv.support_ == False)[0]], axis=1, inplace=True)"
   ]
  },
  {
   "cell_type": "code",
   "execution_count": 197,
   "metadata": {},
   "outputs": [
    {
     "data": {
      "text/html": [
       "<div>\n",
       "<style scoped>\n",
       "    .dataframe tbody tr th:only-of-type {\n",
       "        vertical-align: middle;\n",
       "    }\n",
       "\n",
       "    .dataframe tbody tr th {\n",
       "        vertical-align: top;\n",
       "    }\n",
       "\n",
       "    .dataframe thead th {\n",
       "        text-align: right;\n",
       "    }\n",
       "</style>\n",
       "<table border=\"1\" class=\"dataframe\">\n",
       "  <thead>\n",
       "    <tr style=\"text-align: right;\">\n",
       "      <th></th>\n",
       "      <th>VE1_A</th>\n",
       "      <th>VR1_A</th>\n",
       "      <th>nAromAtom</th>\n",
       "      <th>nSpiro</th>\n",
       "      <th>nBridgehead</th>\n",
       "      <th>nH</th>\n",
       "      <th>nB</th>\n",
       "      <th>nN</th>\n",
       "      <th>nO</th>\n",
       "      <th>nS</th>\n",
       "      <th>...</th>\n",
       "      <th>SLogP</th>\n",
       "      <th>JGI2</th>\n",
       "      <th>JGI4</th>\n",
       "      <th>JGI5</th>\n",
       "      <th>JGI6</th>\n",
       "      <th>JGI7</th>\n",
       "      <th>JGI8</th>\n",
       "      <th>JGI9</th>\n",
       "      <th>JGI10</th>\n",
       "      <th>TopoShapeIndex</th>\n",
       "    </tr>\n",
       "  </thead>\n",
       "  <tbody>\n",
       "    <tr>\n",
       "      <th>26</th>\n",
       "      <td>3.989248</td>\n",
       "      <td>179.986399</td>\n",
       "      <td>12</td>\n",
       "      <td>0</td>\n",
       "      <td>0</td>\n",
       "      <td>15</td>\n",
       "      <td>0</td>\n",
       "      <td>3</td>\n",
       "      <td>2</td>\n",
       "      <td>0</td>\n",
       "      <td>...</td>\n",
       "      <td>2.68240</td>\n",
       "      <td>0.065476</td>\n",
       "      <td>0.040362</td>\n",
       "      <td>0.023865</td>\n",
       "      <td>0.009515</td>\n",
       "      <td>0.014640</td>\n",
       "      <td>0.009574</td>\n",
       "      <td>0.007217</td>\n",
       "      <td>0.007414</td>\n",
       "      <td>0.857143</td>\n",
       "    </tr>\n",
       "    <tr>\n",
       "      <th>9</th>\n",
       "      <td>4.819938</td>\n",
       "      <td>183.316566</td>\n",
       "      <td>12</td>\n",
       "      <td>0</td>\n",
       "      <td>0</td>\n",
       "      <td>18</td>\n",
       "      <td>0</td>\n",
       "      <td>5</td>\n",
       "      <td>4</td>\n",
       "      <td>0</td>\n",
       "      <td>...</td>\n",
       "      <td>2.09900</td>\n",
       "      <td>0.086895</td>\n",
       "      <td>0.035038</td>\n",
       "      <td>0.028826</td>\n",
       "      <td>0.017143</td>\n",
       "      <td>0.015625</td>\n",
       "      <td>0.010097</td>\n",
       "      <td>0.009063</td>\n",
       "      <td>0.008072</td>\n",
       "      <td>1.000000</td>\n",
       "    </tr>\n",
       "    <tr>\n",
       "      <th>7</th>\n",
       "      <td>4.561329</td>\n",
       "      <td>210.869853</td>\n",
       "      <td>17</td>\n",
       "      <td>0</td>\n",
       "      <td>0</td>\n",
       "      <td>20</td>\n",
       "      <td>0</td>\n",
       "      <td>8</td>\n",
       "      <td>1</td>\n",
       "      <td>0</td>\n",
       "      <td>...</td>\n",
       "      <td>1.29070</td>\n",
       "      <td>0.064327</td>\n",
       "      <td>0.024377</td>\n",
       "      <td>0.028020</td>\n",
       "      <td>0.018295</td>\n",
       "      <td>0.011736</td>\n",
       "      <td>0.009113</td>\n",
       "      <td>0.008393</td>\n",
       "      <td>0.009068</td>\n",
       "      <td>1.000000</td>\n",
       "    </tr>\n",
       "    <tr>\n",
       "      <th>20</th>\n",
       "      <td>4.328259</td>\n",
       "      <td>561.790476</td>\n",
       "      <td>18</td>\n",
       "      <td>0</td>\n",
       "      <td>0</td>\n",
       "      <td>26</td>\n",
       "      <td>0</td>\n",
       "      <td>6</td>\n",
       "      <td>2</td>\n",
       "      <td>0</td>\n",
       "      <td>...</td>\n",
       "      <td>3.66064</td>\n",
       "      <td>0.052288</td>\n",
       "      <td>0.026194</td>\n",
       "      <td>0.027943</td>\n",
       "      <td>0.014496</td>\n",
       "      <td>0.013086</td>\n",
       "      <td>0.009859</td>\n",
       "      <td>0.009540</td>\n",
       "      <td>0.005906</td>\n",
       "      <td>1.000000</td>\n",
       "    </tr>\n",
       "    <tr>\n",
       "      <th>24</th>\n",
       "      <td>4.367584</td>\n",
       "      <td>549.602686</td>\n",
       "      <td>15</td>\n",
       "      <td>0</td>\n",
       "      <td>0</td>\n",
       "      <td>19</td>\n",
       "      <td>0</td>\n",
       "      <td>6</td>\n",
       "      <td>2</td>\n",
       "      <td>0</td>\n",
       "      <td>...</td>\n",
       "      <td>3.51298</td>\n",
       "      <td>0.074074</td>\n",
       "      <td>0.038463</td>\n",
       "      <td>0.026222</td>\n",
       "      <td>0.019152</td>\n",
       "      <td>0.014123</td>\n",
       "      <td>0.012124</td>\n",
       "      <td>0.009138</td>\n",
       "      <td>0.007070</td>\n",
       "      <td>0.875000</td>\n",
       "    </tr>\n",
       "    <tr>\n",
       "      <th>10</th>\n",
       "      <td>4.747259</td>\n",
       "      <td>419.620993</td>\n",
       "      <td>17</td>\n",
       "      <td>0</td>\n",
       "      <td>0</td>\n",
       "      <td>27</td>\n",
       "      <td>0</td>\n",
       "      <td>9</td>\n",
       "      <td>1</td>\n",
       "      <td>0</td>\n",
       "      <td>...</td>\n",
       "      <td>1.41290</td>\n",
       "      <td>0.053140</td>\n",
       "      <td>0.023889</td>\n",
       "      <td>0.025965</td>\n",
       "      <td>0.015395</td>\n",
       "      <td>0.010213</td>\n",
       "      <td>0.007749</td>\n",
       "      <td>0.007639</td>\n",
       "      <td>0.006485</td>\n",
       "      <td>0.900000</td>\n",
       "    </tr>\n",
       "    <tr>\n",
       "      <th>23</th>\n",
       "      <td>4.134028</td>\n",
       "      <td>180.284855</td>\n",
       "      <td>5</td>\n",
       "      <td>0</td>\n",
       "      <td>0</td>\n",
       "      <td>23</td>\n",
       "      <td>0</td>\n",
       "      <td>5</td>\n",
       "      <td>2</td>\n",
       "      <td>1</td>\n",
       "      <td>...</td>\n",
       "      <td>1.25930</td>\n",
       "      <td>0.080808</td>\n",
       "      <td>0.032796</td>\n",
       "      <td>0.031099</td>\n",
       "      <td>0.023850</td>\n",
       "      <td>0.017306</td>\n",
       "      <td>0.014143</td>\n",
       "      <td>0.010605</td>\n",
       "      <td>0.007522</td>\n",
       "      <td>1.000000</td>\n",
       "    </tr>\n",
       "    <tr>\n",
       "      <th>15</th>\n",
       "      <td>4.823638</td>\n",
       "      <td>530.661007</td>\n",
       "      <td>21</td>\n",
       "      <td>0</td>\n",
       "      <td>0</td>\n",
       "      <td>24</td>\n",
       "      <td>0</td>\n",
       "      <td>7</td>\n",
       "      <td>3</td>\n",
       "      <td>0</td>\n",
       "      <td>...</td>\n",
       "      <td>1.87990</td>\n",
       "      <td>0.072727</td>\n",
       "      <td>0.034931</td>\n",
       "      <td>0.021442</td>\n",
       "      <td>0.017890</td>\n",
       "      <td>0.010635</td>\n",
       "      <td>0.008011</td>\n",
       "      <td>0.007116</td>\n",
       "      <td>0.005979</td>\n",
       "      <td>1.000000</td>\n",
       "    </tr>\n",
       "    <tr>\n",
       "      <th>6</th>\n",
       "      <td>4.680105</td>\n",
       "      <td>186.452688</td>\n",
       "      <td>12</td>\n",
       "      <td>0</td>\n",
       "      <td>0</td>\n",
       "      <td>20</td>\n",
       "      <td>0</td>\n",
       "      <td>4</td>\n",
       "      <td>4</td>\n",
       "      <td>0</td>\n",
       "      <td>...</td>\n",
       "      <td>2.05060</td>\n",
       "      <td>0.085586</td>\n",
       "      <td>0.033764</td>\n",
       "      <td>0.028882</td>\n",
       "      <td>0.016961</td>\n",
       "      <td>0.013696</td>\n",
       "      <td>0.009962</td>\n",
       "      <td>0.008996</td>\n",
       "      <td>0.007448</td>\n",
       "      <td>1.000000</td>\n",
       "    </tr>\n",
       "    <tr>\n",
       "      <th>14</th>\n",
       "      <td>4.985878</td>\n",
       "      <td>258.000375</td>\n",
       "      <td>11</td>\n",
       "      <td>0</td>\n",
       "      <td>0</td>\n",
       "      <td>17</td>\n",
       "      <td>0</td>\n",
       "      <td>5</td>\n",
       "      <td>5</td>\n",
       "      <td>0</td>\n",
       "      <td>...</td>\n",
       "      <td>1.75900</td>\n",
       "      <td>0.086288</td>\n",
       "      <td>0.031133</td>\n",
       "      <td>0.029494</td>\n",
       "      <td>0.016569</td>\n",
       "      <td>0.014376</td>\n",
       "      <td>0.009877</td>\n",
       "      <td>0.009427</td>\n",
       "      <td>0.008426</td>\n",
       "      <td>0.857143</td>\n",
       "    </tr>\n",
       "    <tr>\n",
       "      <th>1</th>\n",
       "      <td>3.925606</td>\n",
       "      <td>230.400001</td>\n",
       "      <td>15</td>\n",
       "      <td>0</td>\n",
       "      <td>0</td>\n",
       "      <td>18</td>\n",
       "      <td>0</td>\n",
       "      <td>6</td>\n",
       "      <td>1</td>\n",
       "      <td>0</td>\n",
       "      <td>...</td>\n",
       "      <td>2.23034</td>\n",
       "      <td>0.061728</td>\n",
       "      <td>0.040794</td>\n",
       "      <td>0.033704</td>\n",
       "      <td>0.018925</td>\n",
       "      <td>0.013818</td>\n",
       "      <td>0.014253</td>\n",
       "      <td>0.012246</td>\n",
       "      <td>0.004115</td>\n",
       "      <td>1.000000</td>\n",
       "    </tr>\n",
       "    <tr>\n",
       "      <th>19</th>\n",
       "      <td>3.746796</td>\n",
       "      <td>162.363851</td>\n",
       "      <td>6</td>\n",
       "      <td>0</td>\n",
       "      <td>0</td>\n",
       "      <td>19</td>\n",
       "      <td>0</td>\n",
       "      <td>3</td>\n",
       "      <td>2</td>\n",
       "      <td>0</td>\n",
       "      <td>...</td>\n",
       "      <td>1.56090</td>\n",
       "      <td>0.046667</td>\n",
       "      <td>0.038333</td>\n",
       "      <td>0.011819</td>\n",
       "      <td>0.016842</td>\n",
       "      <td>0.014282</td>\n",
       "      <td>0.007587</td>\n",
       "      <td>0.008993</td>\n",
       "      <td>0.004909</td>\n",
       "      <td>1.000000</td>\n",
       "    </tr>\n",
       "    <tr>\n",
       "      <th>3</th>\n",
       "      <td>4.888546</td>\n",
       "      <td>227.217438</td>\n",
       "      <td>17</td>\n",
       "      <td>0</td>\n",
       "      <td>0</td>\n",
       "      <td>20</td>\n",
       "      <td>0</td>\n",
       "      <td>8</td>\n",
       "      <td>3</td>\n",
       "      <td>0</td>\n",
       "      <td>...</td>\n",
       "      <td>1.47170</td>\n",
       "      <td>0.077020</td>\n",
       "      <td>0.034610</td>\n",
       "      <td>0.025721</td>\n",
       "      <td>0.017908</td>\n",
       "      <td>0.013517</td>\n",
       "      <td>0.010860</td>\n",
       "      <td>0.008173</td>\n",
       "      <td>0.008159</td>\n",
       "      <td>1.000000</td>\n",
       "    </tr>\n",
       "    <tr>\n",
       "      <th>16</th>\n",
       "      <td>4.248758</td>\n",
       "      <td>512.393008</td>\n",
       "      <td>21</td>\n",
       "      <td>0</td>\n",
       "      <td>0</td>\n",
       "      <td>13</td>\n",
       "      <td>0</td>\n",
       "      <td>7</td>\n",
       "      <td>1</td>\n",
       "      <td>0</td>\n",
       "      <td>...</td>\n",
       "      <td>2.17550</td>\n",
       "      <td>0.080808</td>\n",
       "      <td>0.041382</td>\n",
       "      <td>0.026628</td>\n",
       "      <td>0.016893</td>\n",
       "      <td>0.014476</td>\n",
       "      <td>0.012213</td>\n",
       "      <td>0.010232</td>\n",
       "      <td>0.005941</td>\n",
       "      <td>1.000000</td>\n",
       "    </tr>\n",
       "    <tr>\n",
       "      <th>17</th>\n",
       "      <td>4.499820</td>\n",
       "      <td>213.294583</td>\n",
       "      <td>12</td>\n",
       "      <td>0</td>\n",
       "      <td>0</td>\n",
       "      <td>18</td>\n",
       "      <td>0</td>\n",
       "      <td>4</td>\n",
       "      <td>4</td>\n",
       "      <td>1</td>\n",
       "      <td>...</td>\n",
       "      <td>1.82060</td>\n",
       "      <td>0.075397</td>\n",
       "      <td>0.031415</td>\n",
       "      <td>0.028882</td>\n",
       "      <td>0.019152</td>\n",
       "      <td>0.017424</td>\n",
       "      <td>0.010971</td>\n",
       "      <td>0.011817</td>\n",
       "      <td>0.007332</td>\n",
       "      <td>0.833333</td>\n",
       "    </tr>\n",
       "    <tr>\n",
       "      <th>4</th>\n",
       "      <td>4.089075</td>\n",
       "      <td>1640.002566</td>\n",
       "      <td>18</td>\n",
       "      <td>0</td>\n",
       "      <td>0</td>\n",
       "      <td>21</td>\n",
       "      <td>0</td>\n",
       "      <td>7</td>\n",
       "      <td>2</td>\n",
       "      <td>0</td>\n",
       "      <td>...</td>\n",
       "      <td>1.81590</td>\n",
       "      <td>0.070707</td>\n",
       "      <td>0.040631</td>\n",
       "      <td>0.025306</td>\n",
       "      <td>0.017225</td>\n",
       "      <td>0.012408</td>\n",
       "      <td>0.009386</td>\n",
       "      <td>0.009661</td>\n",
       "      <td>0.006200</td>\n",
       "      <td>0.875000</td>\n",
       "    </tr>\n",
       "    <tr>\n",
       "      <th>12</th>\n",
       "      <td>4.211544</td>\n",
       "      <td>399.710054</td>\n",
       "      <td>15</td>\n",
       "      <td>0</td>\n",
       "      <td>0</td>\n",
       "      <td>22</td>\n",
       "      <td>0</td>\n",
       "      <td>6</td>\n",
       "      <td>4</td>\n",
       "      <td>1</td>\n",
       "      <td>...</td>\n",
       "      <td>1.32740</td>\n",
       "      <td>0.066194</td>\n",
       "      <td>0.043320</td>\n",
       "      <td>0.020339</td>\n",
       "      <td>0.021463</td>\n",
       "      <td>0.016440</td>\n",
       "      <td>0.015736</td>\n",
       "      <td>0.007567</td>\n",
       "      <td>0.008254</td>\n",
       "      <td>0.875000</td>\n",
       "    </tr>\n",
       "    <tr>\n",
       "      <th>21</th>\n",
       "      <td>4.304570</td>\n",
       "      <td>477.298791</td>\n",
       "      <td>12</td>\n",
       "      <td>0</td>\n",
       "      <td>0</td>\n",
       "      <td>22</td>\n",
       "      <td>0</td>\n",
       "      <td>6</td>\n",
       "      <td>3</td>\n",
       "      <td>0</td>\n",
       "      <td>...</td>\n",
       "      <td>1.64870</td>\n",
       "      <td>0.061869</td>\n",
       "      <td>0.025678</td>\n",
       "      <td>0.025470</td>\n",
       "      <td>0.017059</td>\n",
       "      <td>0.011560</td>\n",
       "      <td>0.010303</td>\n",
       "      <td>0.007917</td>\n",
       "      <td>0.004845</td>\n",
       "      <td>0.875000</td>\n",
       "    </tr>\n",
       "    <tr>\n",
       "      <th>8</th>\n",
       "      <td>4.757935</td>\n",
       "      <td>316.952145</td>\n",
       "      <td>18</td>\n",
       "      <td>0</td>\n",
       "      <td>0</td>\n",
       "      <td>17</td>\n",
       "      <td>0</td>\n",
       "      <td>6</td>\n",
       "      <td>3</td>\n",
       "      <td>0</td>\n",
       "      <td>...</td>\n",
       "      <td>2.85148</td>\n",
       "      <td>0.079012</td>\n",
       "      <td>0.036019</td>\n",
       "      <td>0.027293</td>\n",
       "      <td>0.017415</td>\n",
       "      <td>0.015467</td>\n",
       "      <td>0.009770</td>\n",
       "      <td>0.008872</td>\n",
       "      <td>0.007778</td>\n",
       "      <td>0.875000</td>\n",
       "    </tr>\n",
       "    <tr>\n",
       "      <th>13</th>\n",
       "      <td>4.233297</td>\n",
       "      <td>226.646650</td>\n",
       "      <td>12</td>\n",
       "      <td>0</td>\n",
       "      <td>0</td>\n",
       "      <td>18</td>\n",
       "      <td>0</td>\n",
       "      <td>4</td>\n",
       "      <td>3</td>\n",
       "      <td>0</td>\n",
       "      <td>...</td>\n",
       "      <td>2.42570</td>\n",
       "      <td>0.067568</td>\n",
       "      <td>0.031713</td>\n",
       "      <td>0.023701</td>\n",
       "      <td>0.017913</td>\n",
       "      <td>0.011986</td>\n",
       "      <td>0.010239</td>\n",
       "      <td>0.009219</td>\n",
       "      <td>0.004347</td>\n",
       "      <td>0.833333</td>\n",
       "    </tr>\n",
       "  </tbody>\n",
       "</table>\n",
       "<p>20 rows × 343 columns</p>\n",
       "</div>"
      ],
      "text/plain": [
       "       VE1_A        VR1_A  nAromAtom  nSpiro  nBridgehead  nH  nB  nN  nO  nS  \\\n",
       "26  3.989248   179.986399         12       0            0  15   0   3   2   0   \n",
       "9   4.819938   183.316566         12       0            0  18   0   5   4   0   \n",
       "7   4.561329   210.869853         17       0            0  20   0   8   1   0   \n",
       "20  4.328259   561.790476         18       0            0  26   0   6   2   0   \n",
       "24  4.367584   549.602686         15       0            0  19   0   6   2   0   \n",
       "10  4.747259   419.620993         17       0            0  27   0   9   1   0   \n",
       "23  4.134028   180.284855          5       0            0  23   0   5   2   1   \n",
       "15  4.823638   530.661007         21       0            0  24   0   7   3   0   \n",
       "6   4.680105   186.452688         12       0            0  20   0   4   4   0   \n",
       "14  4.985878   258.000375         11       0            0  17   0   5   5   0   \n",
       "1   3.925606   230.400001         15       0            0  18   0   6   1   0   \n",
       "19  3.746796   162.363851          6       0            0  19   0   3   2   0   \n",
       "3   4.888546   227.217438         17       0            0  20   0   8   3   0   \n",
       "16  4.248758   512.393008         21       0            0  13   0   7   1   0   \n",
       "17  4.499820   213.294583         12       0            0  18   0   4   4   1   \n",
       "4   4.089075  1640.002566         18       0            0  21   0   7   2   0   \n",
       "12  4.211544   399.710054         15       0            0  22   0   6   4   1   \n",
       "21  4.304570   477.298791         12       0            0  22   0   6   3   0   \n",
       "8   4.757935   316.952145         18       0            0  17   0   6   3   0   \n",
       "13  4.233297   226.646650         12       0            0  18   0   4   3   0   \n",
       "\n",
       "    ...    SLogP      JGI2      JGI4      JGI5      JGI6      JGI7      JGI8  \\\n",
       "26  ...  2.68240  0.065476  0.040362  0.023865  0.009515  0.014640  0.009574   \n",
       "9   ...  2.09900  0.086895  0.035038  0.028826  0.017143  0.015625  0.010097   \n",
       "7   ...  1.29070  0.064327  0.024377  0.028020  0.018295  0.011736  0.009113   \n",
       "20  ...  3.66064  0.052288  0.026194  0.027943  0.014496  0.013086  0.009859   \n",
       "24  ...  3.51298  0.074074  0.038463  0.026222  0.019152  0.014123  0.012124   \n",
       "10  ...  1.41290  0.053140  0.023889  0.025965  0.015395  0.010213  0.007749   \n",
       "23  ...  1.25930  0.080808  0.032796  0.031099  0.023850  0.017306  0.014143   \n",
       "15  ...  1.87990  0.072727  0.034931  0.021442  0.017890  0.010635  0.008011   \n",
       "6   ...  2.05060  0.085586  0.033764  0.028882  0.016961  0.013696  0.009962   \n",
       "14  ...  1.75900  0.086288  0.031133  0.029494  0.016569  0.014376  0.009877   \n",
       "1   ...  2.23034  0.061728  0.040794  0.033704  0.018925  0.013818  0.014253   \n",
       "19  ...  1.56090  0.046667  0.038333  0.011819  0.016842  0.014282  0.007587   \n",
       "3   ...  1.47170  0.077020  0.034610  0.025721  0.017908  0.013517  0.010860   \n",
       "16  ...  2.17550  0.080808  0.041382  0.026628  0.016893  0.014476  0.012213   \n",
       "17  ...  1.82060  0.075397  0.031415  0.028882  0.019152  0.017424  0.010971   \n",
       "4   ...  1.81590  0.070707  0.040631  0.025306  0.017225  0.012408  0.009386   \n",
       "12  ...  1.32740  0.066194  0.043320  0.020339  0.021463  0.016440  0.015736   \n",
       "21  ...  1.64870  0.061869  0.025678  0.025470  0.017059  0.011560  0.010303   \n",
       "8   ...  2.85148  0.079012  0.036019  0.027293  0.017415  0.015467  0.009770   \n",
       "13  ...  2.42570  0.067568  0.031713  0.023701  0.017913  0.011986  0.010239   \n",
       "\n",
       "        JGI9     JGI10  TopoShapeIndex  \n",
       "26  0.007217  0.007414        0.857143  \n",
       "9   0.009063  0.008072        1.000000  \n",
       "7   0.008393  0.009068        1.000000  \n",
       "20  0.009540  0.005906        1.000000  \n",
       "24  0.009138  0.007070        0.875000  \n",
       "10  0.007639  0.006485        0.900000  \n",
       "23  0.010605  0.007522        1.000000  \n",
       "15  0.007116  0.005979        1.000000  \n",
       "6   0.008996  0.007448        1.000000  \n",
       "14  0.009427  0.008426        0.857143  \n",
       "1   0.012246  0.004115        1.000000  \n",
       "19  0.008993  0.004909        1.000000  \n",
       "3   0.008173  0.008159        1.000000  \n",
       "16  0.010232  0.005941        1.000000  \n",
       "17  0.011817  0.007332        0.833333  \n",
       "4   0.009661  0.006200        0.875000  \n",
       "12  0.007567  0.008254        0.875000  \n",
       "21  0.007917  0.004845        0.875000  \n",
       "8   0.008872  0.007778        0.875000  \n",
       "13  0.009219  0.004347        0.833333  \n",
       "\n",
       "[20 rows x 343 columns]"
      ]
     },
     "execution_count": 197,
     "metadata": {},
     "output_type": "execute_result"
    }
   ],
   "source": [
    "train"
   ]
  },
  {
   "cell_type": "markdown",
   "metadata": {},
   "source": [
    "##### Descriptors' relevance"
   ]
  },
  {
   "cell_type": "code",
   "execution_count": 135,
   "metadata": {},
   "outputs": [
    {
     "data": {
      "image/png": "[encoded data removed]",
      "text/plain": [
       "<Figure size 1152x1008 with 1 Axes>"
      ]
     },
     "metadata": {
      "needs_background": "light"
     },
     "output_type": "display_data"
    }
   ],
   "source": [
    "dset = pd.DataFrame()\n",
    "dset['attr'] = train.columns\n",
    "dset['importance'] = rfecv.estimator_.feature_importances_\n",
    "\n",
    "dset = dset.sort_values(by='importance', ascending=False)\n",
    "\n",
    "\n",
    "plt.figure(figsize=(16, 14))\n",
    "plt.barh(y=dset['attr'], width=dset['importance'], color='#1976D2')\n",
    "plt.title('RFECV - Feature Importances', fontsize=20, fontweight='bold', pad=20)\n",
    "plt.xlabel('Importance', fontsize=14, labelpad=20)\n",
    "plt.show()\n",
    "\n"
   ]
  },
  {
   "cell_type": "code",
   "execution_count": 137,
   "metadata": {},
   "outputs": [
    {
     "data": {
      "text/html": [
       "<div>\n",
       "<style scoped>\n",
       "    .dataframe tbody tr th:only-of-type {\n",
       "        vertical-align: middle;\n",
       "    }\n",
       "\n",
       "    .dataframe tbody tr th {\n",
       "        vertical-align: top;\n",
       "    }\n",
       "\n",
       "    .dataframe thead th {\n",
       "        text-align: right;\n",
       "    }\n",
       "</style>\n",
       "<table border=\"1\" class=\"dataframe\">\n",
       "  <thead>\n",
       "    <tr style=\"text-align: right;\">\n",
       "      <th></th>\n",
       "      <th>attr</th>\n",
       "      <th>importance</th>\n",
       "    </tr>\n",
       "  </thead>\n",
       "  <tbody>\n",
       "    <tr>\n",
       "      <th>49</th>\n",
       "      <td>ATSC2Z</td>\n",
       "      <td>0.050800</td>\n",
       "    </tr>\n",
       "    <tr>\n",
       "      <th>30</th>\n",
       "      <td>ATSC5dv</td>\n",
       "      <td>0.049211</td>\n",
       "    </tr>\n",
       "    <tr>\n",
       "      <th>182</th>\n",
       "      <td>MINssNH</td>\n",
       "      <td>0.035556</td>\n",
       "    </tr>\n",
       "    <tr>\n",
       "      <th>91</th>\n",
       "      <td>BCUTZ-1l</td>\n",
       "      <td>0.033018</td>\n",
       "    </tr>\n",
       "    <tr>\n",
       "      <th>111</th>\n",
       "      <td>AXp-1d</td>\n",
       "      <td>0.027052</td>\n",
       "    </tr>\n",
       "    <tr>\n",
       "      <th>...</th>\n",
       "      <td>...</td>\n",
       "      <td>...</td>\n",
       "    </tr>\n",
       "    <tr>\n",
       "      <th>176</th>\n",
       "      <td>SsI</td>\n",
       "      <td>0.000000</td>\n",
       "    </tr>\n",
       "    <tr>\n",
       "      <th>177</th>\n",
       "      <td>SsPbH3</td>\n",
       "      <td>0.000000</td>\n",
       "    </tr>\n",
       "    <tr>\n",
       "      <th>178</th>\n",
       "      <td>SssPbH2</td>\n",
       "      <td>0.000000</td>\n",
       "    </tr>\n",
       "    <tr>\n",
       "      <th>179</th>\n",
       "      <td>SsssPbH</td>\n",
       "      <td>0.000000</td>\n",
       "    </tr>\n",
       "    <tr>\n",
       "      <th>171</th>\n",
       "      <td>SsBr</td>\n",
       "      <td>0.000000</td>\n",
       "    </tr>\n",
       "  </tbody>\n",
       "</table>\n",
       "<p>343 rows × 2 columns</p>\n",
       "</div>"
      ],
      "text/plain": [
       "         attr  importance\n",
       "49     ATSC2Z    0.050800\n",
       "30    ATSC5dv    0.049211\n",
       "182   MINssNH    0.035556\n",
       "91   BCUTZ-1l    0.033018\n",
       "111    AXp-1d    0.027052\n",
       "..        ...         ...\n",
       "176       SsI    0.000000\n",
       "177    SsPbH3    0.000000\n",
       "178   SssPbH2    0.000000\n",
       "179   SsssPbH    0.000000\n",
       "171      SsBr    0.000000\n",
       "\n",
       "[343 rows x 2 columns]"
      ]
     },
     "execution_count": 137,
     "metadata": {},
     "output_type": "execute_result"
    }
   ],
   "source": [
    "dset"
   ]
  },
  {
   "cell_type": "code",
   "execution_count": 145,
   "metadata": {},
   "outputs": [
    {
     "data": {
      "image/png": "[encoded data removed]",
      "text/plain": [
       "<Figure size 1152x1008 with 1 Axes>"
      ]
     },
     "metadata": {
      "needs_background": "light"
     },
     "output_type": "display_data"
    }
   ],
   "source": [
    "plt.figure(figsize=(16, 14))\n",
    "plt.barh(y=dset.iloc[0:50,0], width=dset.iloc[0:50,1], color='#1976D2')\n",
    "plt.title('RFECV - 50 Most Important Features', fontsize=20, fontweight='bold', pad=20)\n",
    "plt.xlabel('Importance', fontsize=14, labelpad=20)\n",
    "plt.show()"
   ]
  },
  {
   "cell_type": "code",
   "execution_count": 140,
   "metadata": {},
   "outputs": [
    {
     "ename": "SyntaxError",
     "evalue": "invalid syntax (<ipython-input-140-dbc889fb5a81>, line 1)",
     "output_type": "error",
     "traceback": [
      "\u001b[0;36m  File \u001b[0;32m\"<ipython-input-140-dbc889fb5a81>\"\u001b[0;36m, line \u001b[0;32m1\u001b[0m\n\u001b[0;31m    dset.iloc[[0:343],0]\u001b[0m\n\u001b[0m                ^\u001b[0m\n\u001b[0;31mSyntaxError\u001b[0m\u001b[0;31m:\u001b[0m invalid syntax\n"
     ]
    }
   ],
   "source": [
    "dset.iloc[[0:343],0]"
   ]
  },
  {
   "cell_type": "markdown",
   "metadata": {},
   "source": [
    "### Support Vector Machine (SVM) \n",
    "\n",
    "#### Grid search cross-validation and SVM classificator"
   ]
  },
  {
   "cell_type": "code",
   "execution_count": 165,
   "metadata": {},
   "outputs": [],
   "source": [
    "C_range = np.arange(0.01, 100, step=5)\n",
    "gamma_range = np.arange(0.1, 10, step=2)\n",
    "kernels = [\"linear\",\"sigmoid\",\"rbf\",\"poly\"]\n",
    "parameters = dict(gamma=gamma_range, C=C_range, kernel=kernels)\n",
    "\n",
    "svc = SVC()\n",
    "clf = GridSearchCV(svc, param_grid = parameters)"
   ]
  },
  {
   "cell_type": "code",
   "execution_count": 166,
   "metadata": {},
   "outputs": [
    {
     "data": {
      "text/plain": [
       "GridSearchCV(cv=None, error_score=nan,\n",
       "             estimator=SVC(C=1.0, break_ties=False, cache_size=200,\n",
       "                           class_weight=None, coef0=0.0,\n",
       "                           decision_function_shape='ovr', degree=3,\n",
       "                           gamma='scale', kernel='rbf', max_iter=-1,\n",
       "                           probability=False, random_state=None, shrinking=True,\n",
       "                           tol=0.001, verbose=False),\n",
       "             iid='deprecated', n_jobs=None,\n",
       "             param_grid={'C': array([1.000e-02, 5.010e+00, 1.001e+01, 1.501e+01, 2.001e+01, 2.501e+01,\n",
       "       3.001e+01, 3.501e+01, 4.001e+01, 4.501e+01, 5.001e+01, 5.501e+01,\n",
       "       6.001e+01, 6.501e+01, 7.001e+01, 7.501e+01, 8.001e+01, 8.501e+01,\n",
       "       9.001e+01, 9.501e+01]),\n",
       "                         'gamma': array([0.1, 2.1, 4.1, 6.1, 8.1]),\n",
       "                         'kernel': ['linear', 'sigmoid', 'rbf', 'poly']},\n",
       "             pre_dispatch='2*n_jobs', refit=True, return_train_score=False,\n",
       "             scoring=None, verbose=0)"
      ]
     },
     "execution_count": 166,
     "metadata": {},
     "output_type": "execute_result"
    }
   ],
   "source": [
    "clf.fit(train, ic50_train_enc)"
   ]
  },
  {
   "cell_type": "code",
   "execution_count": 167,
   "metadata": {},
   "outputs": [],
   "source": [
    "ypred = clf.predict(test)"
   ]
  },
  {
   "cell_type": "code",
   "execution_count": 168,
   "metadata": {},
   "outputs": [
    {
     "name": "stdout",
     "output_type": "stream",
     "text": [
      "Accuracy: 0.5714285714285714\n"
     ]
    }
   ],
   "source": [
    "print(\"Accuracy: {}\".format(metrics.accuracy_score(ic50_test_enc, ypred)))"
   ]
  },
  {
   "cell_type": "code",
   "execution_count": 169,
   "metadata": {
    "scrolled": false
   },
   "outputs": [
    {
     "name": "stdout",
     "output_type": "stream",
     "text": [
      "Accuracy: 0.7142857142857143 - standard\n",
      "Accuracy: 0.7142857142857143 - MinMax\n",
      "Accuracy: 0.7142857142857143 - MaxAbs\n",
      "Accuracy: 0.7142857142857143 - Robust\n",
      "Accuracy: 0.5714285714285714 - Gaussian\n",
      "Accuracy: 0.7142857142857143 - Uniform\n",
      "Accuracy: 0.7142857142857143 - Normalized\n"
     ]
    }
   ],
   "source": [
    "clf.fit(train_sc, ic50_train_enc)\n",
    "ypred = clf.predict(test_sc)\n",
    "print(\"Accuracy: {} - standard\".format(metrics.accuracy_score(ic50_test_enc, ypred)))\n",
    "      \n",
    "clf.fit(train_mmsc, ic50_train_enc)\n",
    "ypred = clf.predict(test_mmsc)\n",
    "print(\"Accuracy: {} - MinMax\".format(metrics.accuracy_score(ic50_test_enc, ypred)))\n",
    "\n",
    "clf.fit(train_masc, ic50_train_enc)\n",
    "ypred = clf.predict(test_masc)\n",
    "print(\"Accuracy: {} - MaxAbs\".format(metrics.accuracy_score(ic50_test_enc, ypred)))\n",
    "\n",
    "clf.fit(train_rsc, ic50_train_enc)\n",
    "ypred = clf.predict(test_rsc)\n",
    "print(\"Accuracy: {} - Robust\".format(metrics.accuracy_score(ic50_test_enc, ypred)))\n",
    "\n",
    "clf.fit(train_gsc, ic50_train_enc)\n",
    "ypred = clf.predict(test_gsc)\n",
    "print(\"Accuracy: {} - Gaussian\".format(metrics.accuracy_score(ic50_test_enc, ypred)))\n",
    "\n",
    "clf.fit(train_usc, ic50_train_enc)\n",
    "ypred = clf.predict(test_usc)\n",
    "print(\"Accuracy: {} - Uniform\".format(metrics.accuracy_score(ic50_test_enc, ypred)))\n",
    "\n",
    "clf.fit(train_nsc, ic50_train_enc)\n",
    "ypred = clf.predict(test_nsc)\n",
    "print(\"Accuracy: {} - Normalized\".format(metrics.accuracy_score(ic50_test_enc, ypred)))\n"
   ]
  },
  {
   "cell_type": "markdown",
   "metadata": {},
   "source": [
    "#### Grid search cross-validation and SVM regressor"
   ]
  },
  {
   "cell_type": "code",
   "execution_count": 198,
   "metadata": {},
   "outputs": [],
   "source": [
    "from sklearn.svm import SVR\n",
    "C_range = np.arange(0.01, 100, step=5)\n",
    "gamma_range = np.arange(0.1, 10, step=2)\n",
    "kernels = [\"linear\",\"sigmoid\",\"rbf\",\"poly\"]\n",
    "parameters = dict(gamma=gamma_range, C=C_range, kernel=kernels)\n",
    "\n",
    "svr = SVR()\n",
    "clf = GridSearchCV(svr, param_grid = parameters)"
   ]
  },
  {
   "cell_type": "code",
   "execution_count": 199,
   "metadata": {},
   "outputs": [
    {
     "data": {
      "text/plain": [
       "GridSearchCV(cv=None, error_score=nan,\n",
       "             estimator=SVR(C=1.0, cache_size=200, coef0=0.0, degree=3,\n",
       "                           epsilon=0.1, gamma='scale', kernel='rbf',\n",
       "                           max_iter=-1, shrinking=True, tol=0.001,\n",
       "                           verbose=False),\n",
       "             iid='deprecated', n_jobs=None,\n",
       "             param_grid={'C': array([1.000e-02, 5.010e+00, 1.001e+01, 1.501e+01, 2.001e+01, 2.501e+01,\n",
       "       3.001e+01, 3.501e+01, 4.001e+01, 4.501e+01, 5.001e+01, 5.501e+01,\n",
       "       6.001e+01, 6.501e+01, 7.001e+01, 7.501e+01, 8.001e+01, 8.501e+01,\n",
       "       9.001e+01, 9.501e+01]),\n",
       "                         'gamma': array([0.1, 2.1, 4.1, 6.1, 8.1]),\n",
       "                         'kernel': ['linear', 'sigmoid', 'rbf', 'poly']},\n",
       "             pre_dispatch='2*n_jobs', refit=True, return_train_score=False,\n",
       "             scoring=None, verbose=0)"
      ]
     },
     "execution_count": 199,
     "metadata": {},
     "output_type": "execute_result"
    }
   ],
   "source": [
    "clf.fit(train, ic50_train)"
   ]
  },
  {
   "cell_type": "code",
   "execution_count": 200,
   "metadata": {},
   "outputs": [],
   "source": [
    "ypred=clf.predict(test)"
   ]
  },
  {
   "cell_type": "code",
   "execution_count": 201,
   "metadata": {},
   "outputs": [
    {
     "data": {
      "text/plain": [
       "-0.20292853009538825"
      ]
     },
     "execution_count": 201,
     "metadata": {},
     "output_type": "execute_result"
    }
   ],
   "source": [
    "metrics.r2_score(ic50_test, ypred)"
   ]
  },
  {
   "cell_type": "code",
   "execution_count": 202,
   "metadata": {},
   "outputs": [
    {
     "name": "stdout",
     "output_type": "stream",
     "text": [
      "R²: -0.2149074803718638 - standard\n",
      "R²: -0.5186944835542877 - MinMax\n",
      "R²: -0.02816180684263081 - MaxAbs\n",
      "R²: 0.09453798014895409 - Robust\n",
      "R²: -0.04158018970281496 - Gaussian\n",
      "R²: -0.1613270012926895 - Uniform\n",
      "R²: -1.392243547239389 - Normalized\n"
     ]
    }
   ],
   "source": [
    "clf.fit(train_sc, ic50_train)\n",
    "ypred = clf.predict(test_sc)\n",
    "print(\"R²: {} - standard\".format(metrics.r2_score(ic50_test, ypred)))\n",
    "      \n",
    "clf.fit(train_mmsc, ic50_train)\n",
    "ypred = clf.predict(test_mmsc)\n",
    "print(\"R²: {} - MinMax\".format(metrics.r2_score(ic50_test, ypred)))\n",
    "\n",
    "clf.fit(train_masc, ic50_train)\n",
    "ypred = clf.predict(test_masc)\n",
    "print(\"R²: {} - MaxAbs\".format(metrics.r2_score(ic50_test, ypred)))\n",
    "\n",
    "clf.fit(train_rsc, ic50_train)\n",
    "ypred = clf.predict(test_rsc)\n",
    "print(\"R²: {} - Robust\".format(metrics.r2_score(ic50_test, ypred)))\n",
    "\n",
    "clf.fit(train_gsc, ic50_train)\n",
    "ypred = clf.predict(test_gsc)\n",
    "print(\"R²: {} - Gaussian\".format(metrics.r2_score(ic50_test, ypred)))\n",
    "\n",
    "clf.fit(train_usc, ic50_train)\n",
    "ypred = clf.predict(test_usc)\n",
    "print(\"R²: {} - Uniform\".format(metrics.r2_score(ic50_test, ypred)))\n",
    "\n",
    "clf.fit(train_nsc, ic50_train)\n",
    "ypred = clf.predict(test_nsc)\n",
    "print(\"R²: {} - Normalized\".format(metrics.r2_score(ic50_test, ypred)))"
   ]
  },
  {
   "cell_type": "code",
   "execution_count": 203,
   "metadata": {},
   "outputs": [
    {
     "name": "stdout",
     "output_type": "stream",
     "text": [
      "R²: 0.09453798014895409 - Robust\n"
     ]
    }
   ],
   "source": [
    "clf.fit(train_rsc, ic50_train)\n",
    "ypred = clf.predict(test_rsc)\n",
    "print(\"R²: {} - Robust\".format(metrics.r2_score(ic50_test, ypred)))"
   ]
  },
  {
   "cell_type": "code",
   "execution_count": 204,
   "metadata": {},
   "outputs": [
    {
     "ename": "ValueError",
     "evalue": "The truth value of an array with more than one element is ambiguous. Use a.any() or a.all()",
     "output_type": "error",
     "traceback": [
      "\u001b[0;31m---------------------------------------------------------------------------\u001b[0m",
      "\u001b[0;31mValueError\u001b[0m                                Traceback (most recent call last)",
      "\u001b[0;32m<ipython-input-204-e6358ad55ddd>\u001b[0m in \u001b[0;36m<module>\u001b[0;34m\u001b[0m\n\u001b[0;32m----> 1\u001b[0;31m \u001b[0mX_grid\u001b[0m \u001b[0;34m=\u001b[0m \u001b[0mnp\u001b[0m\u001b[0;34m.\u001b[0m\u001b[0marange\u001b[0m\u001b[0;34m(\u001b[0m\u001b[0mmin\u001b[0m\u001b[0;34m(\u001b[0m\u001b[0mtrain_rsc\u001b[0m\u001b[0;34m)\u001b[0m\u001b[0;34m,\u001b[0m \u001b[0mmax\u001b[0m\u001b[0;34m(\u001b[0m\u001b[0mtrain_rsc\u001b[0m\u001b[0;34m)\u001b[0m\u001b[0;34m,\u001b[0m \u001b[0;36m0.01\u001b[0m\u001b[0;34m)\u001b[0m \u001b[0;31m#this step required because data is feature scaled.\u001b[0m\u001b[0;34m\u001b[0m\u001b[0;34m\u001b[0m\u001b[0m\n\u001b[0m\u001b[1;32m      2\u001b[0m \u001b[0mX_grid\u001b[0m \u001b[0;34m=\u001b[0m \u001b[0mX_grid\u001b[0m\u001b[0;34m.\u001b[0m\u001b[0mreshape\u001b[0m\u001b[0;34m(\u001b[0m\u001b[0;34m(\u001b[0m\u001b[0mlen\u001b[0m\u001b[0;34m(\u001b[0m\u001b[0mX_grid\u001b[0m\u001b[0;34m)\u001b[0m\u001b[0;34m,\u001b[0m \u001b[0;36m1\u001b[0m\u001b[0;34m)\u001b[0m\u001b[0;34m)\u001b[0m\u001b[0;34m\u001b[0m\u001b[0;34m\u001b[0m\u001b[0m\n\u001b[1;32m      3\u001b[0m \u001b[0mplt\u001b[0m\u001b[0;34m.\u001b[0m\u001b[0mscatter\u001b[0m\u001b[0;34m(\u001b[0m\u001b[0mtrain_rsc\u001b[0m\u001b[0;34m,\u001b[0m \u001b[0mtest_rsc\u001b[0m\u001b[0;34m,\u001b[0m \u001b[0mcolor\u001b[0m \u001b[0;34m=\u001b[0m \u001b[0;34m'red'\u001b[0m\u001b[0;34m)\u001b[0m\u001b[0;34m\u001b[0m\u001b[0;34m\u001b[0m\u001b[0m\n\u001b[1;32m      4\u001b[0m \u001b[0mplt\u001b[0m\u001b[0;34m.\u001b[0m\u001b[0mplot\u001b[0m\u001b[0;34m(\u001b[0m\u001b[0mX_grid\u001b[0m\u001b[0;34m,\u001b[0m \u001b[0mregressor\u001b[0m\u001b[0;34m.\u001b[0m\u001b[0mpredict\u001b[0m\u001b[0;34m(\u001b[0m\u001b[0mX_grid\u001b[0m\u001b[0;34m)\u001b[0m\u001b[0;34m,\u001b[0m \u001b[0mcolor\u001b[0m \u001b[0;34m=\u001b[0m \u001b[0;34m'blue'\u001b[0m\u001b[0;34m)\u001b[0m\u001b[0;34m\u001b[0m\u001b[0;34m\u001b[0m\u001b[0m\n\u001b[1;32m      5\u001b[0m \u001b[0mplt\u001b[0m\u001b[0;34m.\u001b[0m\u001b[0mtitle\u001b[0m\u001b[0;34m(\u001b[0m\u001b[0;34m'Truth or Bluff (SVR)'\u001b[0m\u001b[0;34m)\u001b[0m\u001b[0;34m\u001b[0m\u001b[0;34m\u001b[0m\u001b[0m\n",
      "\u001b[0;31mValueError\u001b[0m: The truth value of an array with more than one element is ambiguous. Use a.any() or a.all()"
     ]
    }
   ],
   "source": [
    "X_grid = np.arange(min(train_rsc), max(train_rsc), 0.01) #this step required because data is feature scaled.\n",
    "X_grid = X_grid.reshape((len(X_grid), 1))\n",
    "plt.scatter(train_rsc, test_rsc, color = 'red')\n",
    "plt.plot(X_grid, regressor.predict(X_grid), color = 'blue')\n",
    "plt.title('Truth or Bluff (SVR)')\n",
    "plt.xlabel('Position level')\n",
    "plt.ylabel('Salary')\n",
    "plt.show()"
   ]
  },
  {
   "cell_type": "markdown",
   "metadata": {},
   "source": [
    "### Neural networks"
   ]
  },
  {
   "cell_type": "markdown",
   "metadata": {},
   "source": [
    "#### Multi-Layer Perceptor Classifier (MLPC)"
   ]
  },
  {
   "cell_type": "code",
   "execution_count": 156,
   "metadata": {},
   "outputs": [],
   "source": [
    "mlp = MLPClassifier(hidden_layer_sizes=(13,13,13),max_iter=500)"
   ]
  },
  {
   "cell_type": "code",
   "execution_count": 157,
   "metadata": {},
   "outputs": [
    {
     "data": {
      "text/plain": [
       "MLPClassifier(activation='relu', alpha=0.0001, batch_size='auto', beta_1=0.9,\n",
       "              beta_2=0.999, early_stopping=False, epsilon=1e-08,\n",
       "              hidden_layer_sizes=(13, 13, 13), learning_rate='constant',\n",
       "              learning_rate_init=0.001, max_fun=15000, max_iter=500,\n",
       "              momentum=0.9, n_iter_no_change=10, nesterovs_momentum=True,\n",
       "              power_t=0.5, random_state=None, shuffle=True, solver='adam',\n",
       "              tol=0.0001, validation_fraction=0.1, verbose=False,\n",
       "              warm_start=False)"
      ]
     },
     "execution_count": 157,
     "metadata": {},
     "output_type": "execute_result"
    }
   ],
   "source": [
    "mlp.fit(train,ic50_train_enc)"
   ]
  },
  {
   "cell_type": "code",
   "execution_count": 158,
   "metadata": {},
   "outputs": [],
   "source": [
    "predictions = mlp.predict(test)"
   ]
  },
  {
   "cell_type": "code",
   "execution_count": 159,
   "metadata": {},
   "outputs": [
    {
     "name": "stdout",
     "output_type": "stream",
     "text": [
      "[[3 1]\n",
      " [1 2]]\n",
      "              precision    recall  f1-score   support\n",
      "\n",
      "           0       0.75      0.75      0.75         4\n",
      "           1       0.67      0.67      0.67         3\n",
      "\n",
      "    accuracy                           0.71         7\n",
      "   macro avg       0.71      0.71      0.71         7\n",
      "weighted avg       0.71      0.71      0.71         7\n",
      "\n"
     ]
    }
   ],
   "source": [
    "print(confusion_matrix(ic50_test_enc,predictions))\n",
    "print(classification_report(ic50_test_enc,predictions))"
   ]
  },
  {
   "cell_type": "code",
   "execution_count": 160,
   "metadata": {},
   "outputs": [
    {
     "name": "stdout",
     "output_type": "stream",
     "text": [
      "Standard\n",
      "              precision    recall  f1-score   support\n",
      "\n",
      "           0       0.75      0.75      0.75         4\n",
      "           1       0.67      0.67      0.67         3\n",
      "\n",
      "    accuracy                           0.71         7\n",
      "   macro avg       0.71      0.71      0.71         7\n",
      "weighted avg       0.71      0.71      0.71         7\n",
      "\n",
      "----------------------------------------------\n",
      "MinMax\n",
      "              precision    recall  f1-score   support\n",
      "\n",
      "           0       0.67      0.50      0.57         4\n",
      "           1       0.50      0.67      0.57         3\n",
      "\n",
      "    accuracy                           0.57         7\n",
      "   macro avg       0.58      0.58      0.57         7\n",
      "weighted avg       0.60      0.57      0.57         7\n",
      "\n",
      "----------------------------------------------\n",
      "MaxAbs\n",
      "              precision    recall  f1-score   support\n",
      "\n",
      "           0       0.67      0.50      0.57         4\n",
      "           1       0.50      0.67      0.57         3\n",
      "\n",
      "    accuracy                           0.57         7\n",
      "   macro avg       0.58      0.58      0.57         7\n",
      "weighted avg       0.60      0.57      0.57         7\n",
      "\n",
      "----------------------------------------------\n",
      "Robust\n",
      "              precision    recall  f1-score   support\n",
      "\n",
      "           0       0.60      0.75      0.67         4\n",
      "           1       0.50      0.33      0.40         3\n",
      "\n",
      "    accuracy                           0.57         7\n",
      "   macro avg       0.55      0.54      0.53         7\n",
      "weighted avg       0.56      0.57      0.55         7\n",
      "\n",
      "----------------------------------------------\n",
      "Gaussian\n",
      "              precision    recall  f1-score   support\n",
      "\n",
      "           0       0.67      0.50      0.57         4\n",
      "           1       0.50      0.67      0.57         3\n",
      "\n",
      "    accuracy                           0.57         7\n",
      "   macro avg       0.58      0.58      0.57         7\n",
      "weighted avg       0.60      0.57      0.57         7\n",
      "\n",
      "----------------------------------------------\n",
      "Uniform\n",
      "              precision    recall  f1-score   support\n",
      "\n",
      "           0       0.67      0.50      0.57         4\n",
      "           1       0.50      0.67      0.57         3\n",
      "\n",
      "    accuracy                           0.57         7\n",
      "   macro avg       0.58      0.58      0.57         7\n",
      "weighted avg       0.60      0.57      0.57         7\n",
      "\n",
      "----------------------------------------------\n",
      "Normalized\n",
      "              precision    recall  f1-score   support\n",
      "\n",
      "           0       0.60      0.75      0.67         4\n",
      "           1       0.50      0.33      0.40         3\n",
      "\n",
      "    accuracy                           0.57         7\n",
      "   macro avg       0.55      0.54      0.53         7\n",
      "weighted avg       0.56      0.57      0.55         7\n",
      "\n"
     ]
    }
   ],
   "source": [
    "mlp.fit(train_sc,ic50_train_enc)\n",
    "predictions = mlp.predict(test_sc)\n",
    "print(\"Standard\")\n",
    "print(classification_report(ic50_test_enc,predictions))\n",
    "\n",
    "mlp.fit(train_mmsc,ic50_train_enc)\n",
    "predictions = mlp.predict(test_mmsc)\n",
    "print(\"----------------------------------------------\")\n",
    "print(\"MinMax\")\n",
    "print(classification_report(ic50_test_enc,predictions))\n",
    "\n",
    "mlp.fit(train_masc,ic50_train_enc)\n",
    "predictions = mlp.predict(test_masc)\n",
    "print(\"----------------------------------------------\")\n",
    "print(\"MaxAbs\")\n",
    "print(classification_report(ic50_test_enc,predictions))\n",
    "\n",
    "mlp.fit(train_rsc,ic50_train_enc)\n",
    "predictions = mlp.predict(test_rsc)\n",
    "print(\"----------------------------------------------\")\n",
    "print(\"Robust\")\n",
    "print(classification_report(ic50_test_enc,predictions))\n",
    "\n",
    "mlp.fit(train_gsc,ic50_train_enc)\n",
    "predictions = mlp.predict(test_gsc)\n",
    "print(\"----------------------------------------------\")\n",
    "print(\"Gaussian\")\n",
    "print(classification_report(ic50_test_enc,predictions))\n",
    "\n",
    "mlp.fit(train_usc,ic50_train_enc)\n",
    "predictions = mlp.predict(test_usc)\n",
    "print(\"----------------------------------------------\")\n",
    "print(\"Uniform\")\n",
    "print(classification_report(ic50_test_enc,predictions))\n",
    "\n",
    "mlp.fit(train_nsc,ic50_train_enc)\n",
    "predictions = mlp.predict(test_nsc)\n",
    "print(\"----------------------------------------------\")\n",
    "print(\"Normalized\")\n",
    "print(classification_report(ic50_test_enc,predictions))"
   ]
  },
  {
   "cell_type": "markdown",
   "metadata": {},
   "source": [
    "### Gradient Boosting Classifier"
   ]
  },
  {
   "cell_type": "markdown",
   "metadata": {},
   "source": [
    "#### Learning rates\n",
    "\n",
    "A learning rate that maximizes accuracy in both training and test sets."
   ]
  },
  {
   "cell_type": "code",
   "execution_count": 161,
   "metadata": {},
   "outputs": [
    {
     "name": "stdout",
     "output_type": "stream",
     "text": [
      "Learning rate:  0.05\n",
      "Accuracy score (training): 1.000\n",
      "Accuracy score (test): 0.571\n",
      "\n",
      "Learning rate:  0.075\n",
      "Accuracy score (training): 1.000\n",
      "Accuracy score (test): 0.571\n",
      "\n",
      "Learning rate:  0.1\n",
      "Accuracy score (training): 1.000\n",
      "Accuracy score (test): 0.571\n",
      "\n",
      "Learning rate:  0.25\n",
      "Accuracy score (training): 1.000\n",
      "Accuracy score (test): 0.571\n",
      "\n",
      "Learning rate:  0.5\n",
      "Accuracy score (training): 1.000\n",
      "Accuracy score (test): 0.571\n",
      "\n",
      "Learning rate:  0.75\n",
      "Accuracy score (training): 1.000\n",
      "Accuracy score (test): 0.571\n",
      "\n",
      "Learning rate:  1\n",
      "Accuracy score (training): 1.000\n",
      "Accuracy score (test): 0.286\n",
      "\n"
     ]
    }
   ],
   "source": [
    "lr_list = [0.05, 0.075, 0.1, 0.25, 0.5, 0.75, 1]\n",
    "\n",
    "for learning_rate in lr_list:\n",
    "    gb_clf = GradientBoostingClassifier(n_estimators=20, learning_rate=learning_rate, max_features=2, max_depth=2, random_state=0)\n",
    "    gb_clf.fit(train_sc, ic50_train_enc)\n",
    "\n",
    "    print(\"Learning rate: \", learning_rate)\n",
    "    print(\"Accuracy score (training): {0:.3f}\".format(gb_clf.score(train_sc, ic50_train_enc)))\n",
    "    print(\"Accuracy score (test): {0:.3f}\".format(gb_clf.score(test_sc, ic50_test_enc)))\n",
    "    print()"
   ]
  },
  {
   "cell_type": "code",
   "execution_count": 162,
   "metadata": {},
   "outputs": [
    {
     "name": "stdout",
     "output_type": "stream",
     "text": [
      "Confusion Matrix:\n",
      "[[3 1]\n",
      " [0 3]]\n",
      "Classification Report\n",
      "              precision    recall  f1-score   support\n",
      "\n",
      "           0       1.00      0.75      0.86         4\n",
      "           1       0.75      1.00      0.86         3\n",
      "\n",
      "    accuracy                           0.86         7\n",
      "   macro avg       0.88      0.88      0.86         7\n",
      "weighted avg       0.89      0.86      0.86         7\n",
      "\n"
     ]
    }
   ],
   "source": [
    "gb_clf2 = GradientBoostingClassifier(n_estimators=20, learning_rate=0.5, max_features=2, max_depth=2, random_state=0)\n",
    "gb_clf2.fit(train_mmsc, ic50_train_enc)\n",
    "predictions = gb_clf2.predict(test_mmsc)\n",
    "\n",
    "print(\"Confusion Matrix:\")\n",
    "print(confusion_matrix(ic50_test_enc, predictions))\n",
    "\n",
    "print(\"Classification Report\")\n",
    "print(classification_report(ic50_test_enc, predictions))"
   ]
  },
  {
   "cell_type": "markdown",
   "metadata": {},
   "source": [
    "#### XGBoost Classifier"
   ]
  },
  {
   "cell_type": "code",
   "execution_count": 192,
   "metadata": {},
   "outputs": [],
   "source": [
    "import os\n",
    "os.environ['KMP_DUPLICATE_LIB_OK']='True'\n",
    "from xgboost import XGBClassifier"
   ]
  },
  {
   "cell_type": "code",
   "execution_count": 193,
   "metadata": {},
   "outputs": [],
   "source": [
    "xgb_clf = XGBClassifier()"
   ]
  },
  {
   "cell_type": "code",
   "execution_count": 194,
   "metadata": {},
   "outputs": [
    {
     "data": {
      "text/plain": [
       "XGBClassifier(base_score=0.5, booster=None, colsample_bylevel=1,\n",
       "              colsample_bynode=1, colsample_bytree=1, gamma=0, gpu_id=-1,\n",
       "              importance_type='gain', interaction_constraints=None,\n",
       "              learning_rate=0.300000012, max_delta_step=0, max_depth=6,\n",
       "              min_child_weight=1, missing=nan, monotone_constraints=None,\n",
       "              n_estimators=100, n_jobs=0, num_parallel_tree=1,\n",
       "              objective='binary:logistic', random_state=0, reg_alpha=0,\n",
       "              reg_lambda=1, scale_pos_weight=1, subsample=1, tree_method=None,\n",
       "              validate_parameters=False, verbosity=None)"
      ]
     },
     "execution_count": 194,
     "metadata": {},
     "output_type": "execute_result"
    }
   ],
   "source": [
    "xgb_clf.fit(train_mmsc, ic50_train_enc)\n",
    "xgb_clf"
   ]
  },
  {
   "cell_type": "code",
   "execution_count": 195,
   "metadata": {},
   "outputs": [],
   "source": [
    "y_pred = xgb_clf.predict(test_mmsc)\n",
    "predictions = [round(value) for value in y_pred]"
   ]
  },
  {
   "cell_type": "code",
   "execution_count": 196,
   "metadata": {},
   "outputs": [
    {
     "name": "stdout",
     "output_type": "stream",
     "text": [
      "Accuracy: 57.14%\n"
     ]
    }
   ],
   "source": [
    "from sklearn.metrics import accuracy_score\n",
    "\n",
    "accuracy = accuracy_score(ic50_test_enc, predictions)\n",
    "print(\"Accuracy: %.2f%%\" % (accuracy * 100.0))"
   ]
  },
  {
   "cell_type": "code",
   "execution_count": null,
   "metadata": {},
   "outputs": [],
   "source": [
    "plt.scatter()"
   ]
  }
 ],
 "metadata": {
  "kernelspec": {
   "display_name": "Python 3",
   "language": "python",
   "name": "python3"
  },
  "language_info": {
   "codemirror_mode": {
    "name": "ipython",
    "version": 3
   },
   "file_extension": ".py",
   "mimetype": "text/x-python",
   "name": "python",
   "nbconvert_exporter": "python",
   "pygments_lexer": "ipython3",
   "version": "3.7.6"
  }
 },
 "nbformat": 4,
 "nbformat_minor": 2
}
